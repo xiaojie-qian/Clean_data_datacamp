{
 "cells": [
  {
   "cell_type": "markdown",
   "id": "fcd5a476",
   "metadata": {},
   "source": [
    "# Record linkage"
   ]
  },
  {
   "cell_type": "markdown",
   "id": "90361d22",
   "metadata": {},
   "source": [
    "**Record linkage is a powerful technique used to merge multiple datasets together, used when values have typos or different spellings. In this chapter, you'll learn how to link records by calculating the similarity between strings—you’ll then use your new skills to join two restaurant review datasets into one clean master dataset.**\n",
    "\n",
    "1. Comparing strings: thefuzz package & levenshtein operation algorithem\n",
    "2. Process\n",
    "  - 2.1 Generate pairs\n",
    "  - 2.2 Compare pairs\n",
    "  - 2.3 Linking data  "
   ]
  },
  {
   "cell_type": "markdown",
   "id": "a4aba0a6",
   "metadata": {},
   "source": [
    "## 1. Comparing strings"
   ]
  },
  {
   "cell_type": "markdown",
   "id": "1029036d",
   "metadata": {},
   "source": [
    "> **thefuzz** package in python:  \n",
    "Algorithm: levenshtein \n",
    "Operation: insertion, substitution, deletion"
   ]
  },
  {
   "cell_type": "code",
   "execution_count": null,
   "id": "54ce6bd7",
   "metadata": {},
   "outputs": [],
   "source": [
    "from thefuzz import fuzz\n",
    "fuzz.WRatio('Reeding','Reading') # return a score of smiliarity between 0 to 100"
   ]
  },
  {
   "cell_type": "code",
   "execution_count": null,
   "id": "61776563",
   "metadata": {},
   "outputs": [],
   "source": [
    "86 "
   ]
  },
  {
   "cell_type": "code",
   "execution_count": null,
   "id": "dbdde520",
   "metadata": {},
   "outputs": [],
   "source": [
    "# Import process from thefuzz\n",
    "from thefuzz import process\n",
    "\n",
    "# Store the unique values of cuisine_type in unique_types\n",
    "unique_types = restaurants['cuisine_type'].unique()\n",
    "\n",
    "# Calculate similarity of 'asian' to all values of unique_types\n",
    "print(process.extract('asian', unique_types, limit = len(unique_types)))\n",
    "\n",
    "# Calculate similarity of 'american' to all values of unique_types\n",
    "print(process.extract('american', unique_types, limit = len(unique_types)))\n",
    "\n",
    "# Calculate similarity of 'italian' to all values of unique_types\n",
    "print(process.extract('italian', unique_types, limit = len(unique_types)))"
   ]
  },
  {
   "cell_type": "code",
   "execution_count": null,
   "id": "fe45fc42",
   "metadata": {},
   "outputs": [],
   "source": [
    "Output:\n",
    "    \n",
    "[('asian', 100), ('asiane', 91), ('asiann', 91), ('asiian', 91), ('asiaan', 91), ('asianne', 83), ('asiat', 80), \n",
    " ('italiann', 72), ('italiano', 72), ('italianne', 72), ('italian', 67), ('amurican', 62), ('american', 62), \n",
    " ('italiaan', 62), ('italiian', 62), ('itallian', 62), ('americann', 57), ('americano', 57), ('ameerican', 57), \n",
    " ('aamerican', 57), ('ameriican', 57), ('amerrican', 57), ('ammericann', 54), ('ameerrican', 54), ('ammereican', 54),\n",
    " ('america', 50), ('merican', 50), ('murican', 50), ('italien', 50), ('americen', 46), ('americin', 46), \n",
    " ('amerycan', 46), ('itali', 40)]\n",
    "\n",
    "[('american', 100), ('americann', 94), ('americano', 94), ('ameerican', 94), ('aamerican', 94), ('ameriican', 94), \n",
    " ('amerrican', 94), ('america', 93), ('merican', 93), ('ammericann', 89), ('ameerrican', 89), ('ammereican', 89), \n",
    " ('amurican', 88), ('americen', 88), ('americin', 88), ('amerycan', 88), ('murican', 80), ('asian', 62), ('asiane', 57), \n",
    " ('asiann', 57), ('asiian', 57), ('asiaan', 57), ('italian', 53), ('asianne', 53), ('italiann', 50), ('italiano', 50), \n",
    " ('italiaan', 50), ('italiian', 50), ('itallian', 50), ('italianne', 47), ('asiat', 46), ('itali', 40), ('italien', 40)]\n",
    "\n",
    "[('italian', 100), ('italiann', 93), ('italiano', 93), ('italiaan', 93), ('italiian', 93), ('itallian', 93), \n",
    " ('italianne', 88), ('italien', 86), ('itali', 83), ('asian', 67), ('asiane', 62), ('asiann', 62), ('asiian', 62), \n",
    " ('asiaan', 62), ('asianne', 57), ('amurican', 53), ('american', 53), ('americann', 50), ('asiat', 50), ('americano', 50), \n",
    " ('ameerican', 50), ('aamerican', 50), ('ameriican', 50), ('amerrican', 50), ('ammericann', 47), ('ameerrican', 47), \n",
    " ('ammereican', 47), ('america', 43), ('merican', 43), ('murican', 43), ('americen', 40), ('americin', 40), ('amerycan', 40)]"
   ]
  },
  {
   "cell_type": "code",
   "execution_count": null,
   "id": "d81edec6",
   "metadata": {},
   "outputs": [],
   "source": [
    "categories = list('italian', 'asian','american')\n",
    "# Iterate through categories\n",
    "for cuisine in categories:  \n",
    "  # Create a list of matches, comparing cuisine with the cuisine_type column\n",
    "  matches = process.extract(cuisine, restaurants['cuisine_type'], limit=len(restaurants.cuisine_type))\n",
    "\n",
    "  # Iterate through the list of matches\n",
    "  for match in matches:\n",
    "     # Check whether the similarity score is greater than or equal to 80\n",
    "    if match[1] >= 80:\n",
    "      # If it is, select all rows where the cuisine_type is spelled this way, and set them to the correct cuisine\n",
    "      restaurants.loc[restaurants['cuisine_type'] == match[0]] = cuisine\n",
    "      \n",
    "# Inspect the final result\n",
    "print(restaurants['cuisine_type'].unique())"
   ]
  },
  {
   "cell_type": "raw",
   "id": "dfe4d229",
   "metadata": {},
   "source": [
    "Output:\n",
    "\n",
    "['american' 'asian' 'italian']"
   ]
  },
  {
   "cell_type": "markdown",
   "id": "ac36f0c2",
   "metadata": {},
   "source": [
    "### Record linkage or join? \n",
    "\n",
    "> Similar to joins, record linkage is the act of linking data from different sources regarding the same entity. But unlike joins, record linkage does not require exact matches between different pairs of data, and instead can find close matches using string similarity. This is why record linkage is effective when there are no common unique keys between the data sources you can rely upon when linking data sources such as a unique identifier."
   ]
  },
  {
   "cell_type": "markdown",
   "id": "8ea08989",
   "metadata": {},
   "source": [
    "## 2. Process\n",
    "*From data_a, data_b -> generate pairs by index and block -> Compair pairs -> Score pairs -> Link data*"
   ]
  },
  {
   "cell_type": "markdown",
   "id": "c5f3dc30",
   "metadata": {},
   "source": [
    "### 2.1 Generate pairs"
   ]
  },
  {
   "cell_type": "code",
   "execution_count": null,
   "id": "82582bf3",
   "metadata": {},
   "outputs": [],
   "source": [
    "# Create an indexer and object and find possible pairs\n",
    "indexer = recordlinkage.Index()\n",
    "\n",
    "# Block pairing on cuisine_type\n",
    "indexer.block('cuisine_type')\n",
    "\n",
    "# Generate pairs\n",
    "pairs = indexer.index(restaurants, restaurants_new)"
   ]
  },
  {
   "cell_type": "markdown",
   "id": "ac83e2ac",
   "metadata": {},
   "source": [
    "### 2.2 Compare pairs"
   ]
  },
  {
   "cell_type": "code",
   "execution_count": null,
   "id": "ab3f3672",
   "metadata": {},
   "outputs": [],
   "source": [
    "import recordlinkage \n",
    "# Create a comparison object\n",
    "comp_cl = recordlinkage.Compare()\n",
    "\n",
    "# Find exact matches on city, cuisine_types - \n",
    "comp_cl.exact('city', 'city', label='city')\n",
    "comp_cl.exact('cuisine_type', 'cuisine_type', label='cuisine_type')\n",
    "\n",
    "# Find similar matches of rest_name\n",
    "comp_cl.string('rest_name', 'rest_name', label='name', threshold = 0.8) \n",
    "\n",
    "# Get potential matches and print\n",
    "potential_matches = comp_cl.compute(pairs, restaurants, restaurants_new)\n",
    "print(potential_matches)"
   ]
  },
  {
   "cell_type": "raw",
   "id": "61e30be3",
   "metadata": {},
   "source": [
    "Output:\n",
    "\n",
    "   city  cuisine_type  name\n",
    "0   0      0             1   0.0\n",
    "    1      0             1   0.0\n",
    "    7      0             1   0.0\n",
    "    12     0             1   0.0\n",
    "    13     0             1   0.0\n",
    "...      ...           ...   ...\n",
    "40  18     0             1   0.0\n",
    "281 18     0             1   0.0\n",
    "288 18     0             1   0.0\n",
    "302 18     0             1   0.0\n",
    "308 18     0             1   0.0\n",
    "\n",
    "[3631 rows x 3 columns]"
   ]
  },
  {
   "cell_type": "markdown",
   "id": "a47153be",
   "metadata": {},
   "source": [
    "### 2.3 Linking data"
   ]
  },
  {
   "cell_type": "code",
   "execution_count": null,
   "id": "ae963ac0",
   "metadata": {},
   "outputs": [],
   "source": [
    "# Isolate potential matches with row sum >=3\n",
    "matches = potential_matches[potential_matches.sum(axis=1) >= 3]\n",
    "\n",
    "# Get values of second column index of matches\n",
    "matching_indices = matches.index.get_level_values(1)\n",
    "\n",
    "# Subset restaurants_new based on non-duplicate values\n",
    "non_dup = restaurants_new[~restaurants_new.index.isin(matching_indices)]\n",
    "\n",
    "# Append non_dup to restaurants\n",
    "full_restaurants = restaurants.append(non_dup)\n",
    "print(full_restaurants)"
   ]
  },
  {
   "cell_type": "raw",
   "id": "9feeaab1",
   "metadata": {},
   "source": [
    "Output:                     \n",
    "                        rest_name                  rest_addr               city       phone cuisine_type\n",
    "    0   arnie morton's of chicago   435 s. la cienega blv .         los angeles  3102461501     american\n",
    "    1          art's delicatessen       12224 ventura blvd.         studio city  8187621221     american\n",
    "    2                   campanile       624 s. la brea ave.         los angeles  2139381447     american\n",
    "    3                       fenix    8358 sunset blvd. west           hollywood  2138486677     american\n",
    "    4          grill on the alley           9560 dayton way         los angeles  3102760615     american\n",
    "    ..                        ...                        ...                ...         ...          ...\n",
    "    76                        don        1136 westwood blvd.           westwood  3102091422      italian\n",
    "    77                      feast        1949 westwood blvd.            west la  3104750400      chinese\n",
    "    78                   mulberry        17040 ventura blvd.             encino  8189068881        pizza\n",
    "    80                    jiraffe      502 santa monica blvd       santa monica  3109176671  californian\n",
    "    81                   martha's  22nd street grill 25 22nd  st. hermosa beach  3103767786     american\n",
    "    \n",
    "    [396 rows x 5 columns]"
   ]
  }
 ],
 "metadata": {
  "kernelspec": {
   "display_name": "Python 3 (ipykernel)",
   "language": "python",
   "name": "python3"
  },
  "language_info": {
   "codemirror_mode": {
    "name": "ipython",
    "version": 3
   },
   "file_extension": ".py",
   "mimetype": "text/x-python",
   "name": "python",
   "nbconvert_exporter": "python",
   "pygments_lexer": "ipython3",
   "version": "3.9.12"
  }
 },
 "nbformat": 4,
 "nbformat_minor": 5
}
