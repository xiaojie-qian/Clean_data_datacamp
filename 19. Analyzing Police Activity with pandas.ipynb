{
 "cells": [
  {
   "cell_type": "markdown",
   "id": "e221d266",
   "metadata": {},
   "source": [
    "# Objectives"
   ]
  },
  {
   "cell_type": "markdown",
   "id": "edb04615",
   "metadata": {},
   "source": [
    "1. Preparing the data\n",
    "- Examine the data \n",
    "- Clean the data\n",
    "  - missing data \n",
    "      - df.drop(axis = 1): drop columns \n",
    "      - df.dropna (subset = ): drop rows \n",
    "  - datatype: dtypes; astype()\n",
    "  - Creating a DatetimeIndex: \n",
    "      - df.replace('/', '-')\n",
    "      - df.date.str.cat(df.time, sep = ' ' )\n",
    "2. Explore the relationship\n",
    "- Counting unique values for categorical data: \n",
    "    - .value_counts(): excluding Nan by default\n",
    "    - .value_counts().sum() -> total row \n",
    "    - .value_counts(normalize = True) -> proportion\n",
    "- Filter \n",
    "    - by one condition\n",
    "    - by multipe conditions: &, |\n",
    "- Correlation, not causation\n",
    "    - math with boolean values\n",
    "    - compare with groupby(str)\n",
    "    - searching for a string\n",
    "3. Visual exploratory data analysis\n",
    "    - Accessing datetime attributes\n",
    "    - .dt.month()\n",
    "    - .index.month()\n",
    "    - Resampling: df[col].resample('W').mean() -> for datetime_like type\n",
    "    - Computing a frequency table: pd.crosstab(row, column)\n",
    "4. Analyzing the dataset\n",
    "    - Examine the dateset: statistic \n",
    "    - Convert to categorical data tyoe\n",
    "        - cats = pd.CategoricalDtype(['short', 'medium', 'long'], ordered = True)\n",
    "        - traffic['stop_length'] = traffic.stop_length.astype(cats)\n",
    "    - Merging dataests\n",
    "    - Converting a multi-index Series to DataFrame\n",
    "    - multi-index Series.unstack()\n",
    "    - pivot_table()"
   ]
  },
  {
   "cell_type": "markdown",
   "id": "ecb010d1",
   "metadata": {},
   "source": [
    "## 1. Preparing the data\n",
    "- Examine the data \n",
    "- Clean the data\n",
    "  - missing data \n",
    "      - df.drop(axis = 1): drop columns \n",
    "      - df.dropna (subset = ): drop rows \n",
    "  - datatype: dtypes; astype()\n",
    "  - Creating a DatetimeIndex: \n",
    "      - df.replace('/', '-')\n",
    "      - df.date.str.cat(df.time, sep = ' ' )"
   ]
  },
  {
   "cell_type": "code",
   "execution_count": 1,
   "id": "fe84085a",
   "metadata": {},
   "outputs": [],
   "source": [
    "import numpy as np\n",
    "import pandas as pd\n",
    "import matplotlib.pyplot as plt\n",
    "import seaborn as sns"
   ]
  },
  {
   "cell_type": "code",
   "execution_count": 17,
   "id": "f7c2c660",
   "metadata": {},
   "outputs": [
    {
     "data": {
      "text/html": [
       "<div>\n",
       "<style scoped>\n",
       "    .dataframe tbody tr th:only-of-type {\n",
       "        vertical-align: middle;\n",
       "    }\n",
       "\n",
       "    .dataframe tbody tr th {\n",
       "        vertical-align: top;\n",
       "    }\n",
       "\n",
       "    .dataframe thead th {\n",
       "        text-align: right;\n",
       "    }\n",
       "</style>\n",
       "<table border=\"1\" class=\"dataframe\">\n",
       "  <thead>\n",
       "    <tr style=\"text-align: right;\">\n",
       "      <th></th>\n",
       "      <th>state</th>\n",
       "      <th>stop_date</th>\n",
       "      <th>stop_time</th>\n",
       "      <th>county_name</th>\n",
       "      <th>driver_gender</th>\n",
       "      <th>driver_race</th>\n",
       "      <th>violation_raw</th>\n",
       "      <th>violation</th>\n",
       "      <th>search_conducted</th>\n",
       "      <th>search_type</th>\n",
       "      <th>stop_outcome</th>\n",
       "      <th>is_arrested</th>\n",
       "      <th>stop_duration</th>\n",
       "      <th>drugs_related_stop</th>\n",
       "      <th>district</th>\n",
       "    </tr>\n",
       "  </thead>\n",
       "  <tbody>\n",
       "    <tr>\n",
       "      <th>0</th>\n",
       "      <td>RI</td>\n",
       "      <td>2005-01-04</td>\n",
       "      <td>12:55</td>\n",
       "      <td>NaN</td>\n",
       "      <td>M</td>\n",
       "      <td>White</td>\n",
       "      <td>Equipment/Inspection Violation</td>\n",
       "      <td>Equipment</td>\n",
       "      <td>False</td>\n",
       "      <td>NaN</td>\n",
       "      <td>Citation</td>\n",
       "      <td>False</td>\n",
       "      <td>0-15 Min</td>\n",
       "      <td>False</td>\n",
       "      <td>Zone X4</td>\n",
       "    </tr>\n",
       "    <tr>\n",
       "      <th>1</th>\n",
       "      <td>RI</td>\n",
       "      <td>2005-01-23</td>\n",
       "      <td>23:15</td>\n",
       "      <td>NaN</td>\n",
       "      <td>M</td>\n",
       "      <td>White</td>\n",
       "      <td>Speeding</td>\n",
       "      <td>Speeding</td>\n",
       "      <td>False</td>\n",
       "      <td>NaN</td>\n",
       "      <td>Citation</td>\n",
       "      <td>False</td>\n",
       "      <td>0-15 Min</td>\n",
       "      <td>False</td>\n",
       "      <td>Zone K3</td>\n",
       "    </tr>\n",
       "    <tr>\n",
       "      <th>2</th>\n",
       "      <td>RI</td>\n",
       "      <td>2005-02-17</td>\n",
       "      <td>04:15</td>\n",
       "      <td>NaN</td>\n",
       "      <td>M</td>\n",
       "      <td>White</td>\n",
       "      <td>Speeding</td>\n",
       "      <td>Speeding</td>\n",
       "      <td>False</td>\n",
       "      <td>NaN</td>\n",
       "      <td>Citation</td>\n",
       "      <td>False</td>\n",
       "      <td>0-15 Min</td>\n",
       "      <td>False</td>\n",
       "      <td>Zone X4</td>\n",
       "    </tr>\n",
       "  </tbody>\n",
       "</table>\n",
       "</div>"
      ],
      "text/plain": [
       "  state   stop_date stop_time  county_name driver_gender driver_race  \\\n",
       "0    RI  2005-01-04     12:55          NaN             M       White   \n",
       "1    RI  2005-01-23     23:15          NaN             M       White   \n",
       "2    RI  2005-02-17     04:15          NaN             M       White   \n",
       "\n",
       "                    violation_raw  violation  search_conducted search_type  \\\n",
       "0  Equipment/Inspection Violation  Equipment             False         NaN   \n",
       "1                        Speeding   Speeding             False         NaN   \n",
       "2                        Speeding   Speeding             False         NaN   \n",
       "\n",
       "  stop_outcome is_arrested stop_duration  drugs_related_stop district  \n",
       "0     Citation       False      0-15 Min               False  Zone X4  \n",
       "1     Citation       False      0-15 Min               False  Zone K3  \n",
       "2     Citation       False      0-15 Min               False  Zone X4  "
      ]
     },
     "execution_count": 17,
     "metadata": {},
     "output_type": "execute_result"
    }
   ],
   "source": [
    "url = 'https://assets.datacamp.com/production/repositories/1497/datasets/62bd9feef451860db02d26553613a299721882e8/police.csv'\n",
    "traffic = pd.read_csv(url)\n",
    "traffic.head(3)"
   ]
  },
  {
   "cell_type": "code",
   "execution_count": 168,
   "id": "8cd904a9",
   "metadata": {},
   "outputs": [
    {
     "data": {
      "text/html": [
       "<div>\n",
       "<style scoped>\n",
       "    .dataframe tbody tr th:only-of-type {\n",
       "        vertical-align: middle;\n",
       "    }\n",
       "\n",
       "    .dataframe tbody tr th {\n",
       "        vertical-align: top;\n",
       "    }\n",
       "\n",
       "    .dataframe thead th {\n",
       "        text-align: right;\n",
       "    }\n",
       "</style>\n",
       "<table border=\"1\" class=\"dataframe\">\n",
       "  <thead>\n",
       "    <tr style=\"text-align: right;\">\n",
       "      <th></th>\n",
       "      <th>STATION</th>\n",
       "      <th>DATE</th>\n",
       "      <th>TAVG</th>\n",
       "      <th>TMIN</th>\n",
       "      <th>TMAX</th>\n",
       "      <th>AWND</th>\n",
       "      <th>WSF2</th>\n",
       "      <th>WT01</th>\n",
       "      <th>WT02</th>\n",
       "      <th>WT03</th>\n",
       "      <th>...</th>\n",
       "      <th>WT11</th>\n",
       "      <th>WT13</th>\n",
       "      <th>WT14</th>\n",
       "      <th>WT15</th>\n",
       "      <th>WT16</th>\n",
       "      <th>WT17</th>\n",
       "      <th>WT18</th>\n",
       "      <th>WT19</th>\n",
       "      <th>WT21</th>\n",
       "      <th>WT22</th>\n",
       "    </tr>\n",
       "  </thead>\n",
       "  <tbody>\n",
       "    <tr>\n",
       "      <th>0</th>\n",
       "      <td>USW00014765</td>\n",
       "      <td>2005-01-01</td>\n",
       "      <td>44.0</td>\n",
       "      <td>35</td>\n",
       "      <td>53</td>\n",
       "      <td>8.95</td>\n",
       "      <td>25.1</td>\n",
       "      <td>1.0</td>\n",
       "      <td>NaN</td>\n",
       "      <td>NaN</td>\n",
       "      <td>...</td>\n",
       "      <td>NaN</td>\n",
       "      <td>1.0</td>\n",
       "      <td>NaN</td>\n",
       "      <td>NaN</td>\n",
       "      <td>NaN</td>\n",
       "      <td>NaN</td>\n",
       "      <td>NaN</td>\n",
       "      <td>NaN</td>\n",
       "      <td>NaN</td>\n",
       "      <td>NaN</td>\n",
       "    </tr>\n",
       "    <tr>\n",
       "      <th>1</th>\n",
       "      <td>USW00014765</td>\n",
       "      <td>2005-01-02</td>\n",
       "      <td>36.0</td>\n",
       "      <td>28</td>\n",
       "      <td>44</td>\n",
       "      <td>9.40</td>\n",
       "      <td>14.1</td>\n",
       "      <td>NaN</td>\n",
       "      <td>NaN</td>\n",
       "      <td>NaN</td>\n",
       "      <td>...</td>\n",
       "      <td>NaN</td>\n",
       "      <td>NaN</td>\n",
       "      <td>NaN</td>\n",
       "      <td>NaN</td>\n",
       "      <td>1.0</td>\n",
       "      <td>NaN</td>\n",
       "      <td>1.0</td>\n",
       "      <td>NaN</td>\n",
       "      <td>NaN</td>\n",
       "      <td>NaN</td>\n",
       "    </tr>\n",
       "    <tr>\n",
       "      <th>2</th>\n",
       "      <td>USW00014765</td>\n",
       "      <td>2005-01-03</td>\n",
       "      <td>49.0</td>\n",
       "      <td>44</td>\n",
       "      <td>53</td>\n",
       "      <td>6.93</td>\n",
       "      <td>17.0</td>\n",
       "      <td>1.0</td>\n",
       "      <td>NaN</td>\n",
       "      <td>NaN</td>\n",
       "      <td>...</td>\n",
       "      <td>NaN</td>\n",
       "      <td>1.0</td>\n",
       "      <td>NaN</td>\n",
       "      <td>NaN</td>\n",
       "      <td>1.0</td>\n",
       "      <td>NaN</td>\n",
       "      <td>NaN</td>\n",
       "      <td>NaN</td>\n",
       "      <td>NaN</td>\n",
       "      <td>NaN</td>\n",
       "    </tr>\n",
       "  </tbody>\n",
       "</table>\n",
       "<p>3 rows × 27 columns</p>\n",
       "</div>"
      ],
      "text/plain": [
       "       STATION        DATE  TAVG  TMIN  TMAX  AWND  WSF2  WT01  WT02  WT03  \\\n",
       "0  USW00014765  2005-01-01  44.0    35    53  8.95  25.1   1.0   NaN   NaN   \n",
       "1  USW00014765  2005-01-02  36.0    28    44  9.40  14.1   NaN   NaN   NaN   \n",
       "2  USW00014765  2005-01-03  49.0    44    53  6.93  17.0   1.0   NaN   NaN   \n",
       "\n",
       "   ...  WT11  WT13  WT14  WT15  WT16  WT17  WT18  WT19  WT21  WT22  \n",
       "0  ...   NaN   1.0   NaN   NaN   NaN   NaN   NaN   NaN   NaN   NaN  \n",
       "1  ...   NaN   NaN   NaN   NaN   1.0   NaN   1.0   NaN   NaN   NaN  \n",
       "2  ...   NaN   1.0   NaN   NaN   1.0   NaN   NaN   NaN   NaN   NaN  \n",
       "\n",
       "[3 rows x 27 columns]"
      ]
     },
     "execution_count": 168,
     "metadata": {},
     "output_type": "execute_result"
    }
   ],
   "source": [
    "url = 'https://assets.datacamp.com/production/repositories/1497/datasets/02f3fb2d4416d3f6626e1117688e0386784e8e55/weather.csv'\n",
    "weather = pd.read_csv(url)\n",
    "weather.head(3)"
   ]
  },
  {
   "cell_type": "markdown",
   "id": "761e41da",
   "metadata": {},
   "source": [
    "**traffic dataset**"
   ]
  },
  {
   "cell_type": "code",
   "execution_count": 6,
   "id": "79a62eae",
   "metadata": {},
   "outputs": [
    {
     "data": {
      "text/plain": [
       "state                     0\n",
       "stop_date                 0\n",
       "stop_time                 0\n",
       "search_conducted          0\n",
       "drugs_related_stop        0\n",
       "district                  0\n",
       "driver_race            5202\n",
       "violation_raw          5202\n",
       "violation              5202\n",
       "stop_outcome           5202\n",
       "is_arrested            5202\n",
       "stop_duration          5202\n",
       "driver_gender          5205\n",
       "search_type           88434\n",
       "county_name           91741\n",
       "dtype: int64"
      ]
     },
     "execution_count": 6,
     "metadata": {},
     "output_type": "execute_result"
    }
   ],
   "source": [
    "traffic.isna().sum().sort_values()"
   ]
  },
  {
   "cell_type": "code",
   "execution_count": 7,
   "id": "b1962f81",
   "metadata": {},
   "outputs": [
    {
     "data": {
      "text/plain": [
       "(91741, 15)"
      ]
     },
     "execution_count": 7,
     "metadata": {},
     "output_type": "execute_result"
    }
   ],
   "source": [
    "traffic.shape"
   ]
  },
  {
   "cell_type": "code",
   "execution_count": 18,
   "id": "2fa9b0a1",
   "metadata": {},
   "outputs": [
    {
     "data": {
      "text/html": [
       "<div>\n",
       "<style scoped>\n",
       "    .dataframe tbody tr th:only-of-type {\n",
       "        vertical-align: middle;\n",
       "    }\n",
       "\n",
       "    .dataframe tbody tr th {\n",
       "        vertical-align: top;\n",
       "    }\n",
       "\n",
       "    .dataframe thead th {\n",
       "        text-align: right;\n",
       "    }\n",
       "</style>\n",
       "<table border=\"1\" class=\"dataframe\">\n",
       "  <thead>\n",
       "    <tr style=\"text-align: right;\">\n",
       "      <th></th>\n",
       "      <th>state</th>\n",
       "      <th>stop_date</th>\n",
       "      <th>stop_time</th>\n",
       "      <th>driver_gender</th>\n",
       "      <th>driver_race</th>\n",
       "      <th>violation_raw</th>\n",
       "      <th>violation</th>\n",
       "      <th>search_conducted</th>\n",
       "      <th>search_type</th>\n",
       "      <th>stop_outcome</th>\n",
       "      <th>is_arrested</th>\n",
       "      <th>stop_duration</th>\n",
       "      <th>drugs_related_stop</th>\n",
       "      <th>district</th>\n",
       "    </tr>\n",
       "  </thead>\n",
       "  <tbody>\n",
       "    <tr>\n",
       "      <th>0</th>\n",
       "      <td>RI</td>\n",
       "      <td>2005-01-04</td>\n",
       "      <td>12:55</td>\n",
       "      <td>M</td>\n",
       "      <td>White</td>\n",
       "      <td>Equipment/Inspection Violation</td>\n",
       "      <td>Equipment</td>\n",
       "      <td>False</td>\n",
       "      <td>NaN</td>\n",
       "      <td>Citation</td>\n",
       "      <td>False</td>\n",
       "      <td>0-15 Min</td>\n",
       "      <td>False</td>\n",
       "      <td>Zone X4</td>\n",
       "    </tr>\n",
       "    <tr>\n",
       "      <th>1</th>\n",
       "      <td>RI</td>\n",
       "      <td>2005-01-23</td>\n",
       "      <td>23:15</td>\n",
       "      <td>M</td>\n",
       "      <td>White</td>\n",
       "      <td>Speeding</td>\n",
       "      <td>Speeding</td>\n",
       "      <td>False</td>\n",
       "      <td>NaN</td>\n",
       "      <td>Citation</td>\n",
       "      <td>False</td>\n",
       "      <td>0-15 Min</td>\n",
       "      <td>False</td>\n",
       "      <td>Zone K3</td>\n",
       "    </tr>\n",
       "  </tbody>\n",
       "</table>\n",
       "</div>"
      ],
      "text/plain": [
       "  state   stop_date stop_time driver_gender driver_race  \\\n",
       "0    RI  2005-01-04     12:55             M       White   \n",
       "1    RI  2005-01-23     23:15             M       White   \n",
       "\n",
       "                    violation_raw  violation  search_conducted search_type  \\\n",
       "0  Equipment/Inspection Violation  Equipment             False         NaN   \n",
       "1                        Speeding   Speeding             False         NaN   \n",
       "\n",
       "  stop_outcome is_arrested stop_duration  drugs_related_stop district  \n",
       "0     Citation       False      0-15 Min               False  Zone X4  \n",
       "1     Citation       False      0-15 Min               False  Zone K3  "
      ]
     },
     "execution_count": 18,
     "metadata": {},
     "output_type": "execute_result"
    }
   ],
   "source": [
    "# drop country_name \n",
    "traffic.drop('county_name', axis = 1, inplace = True)\n",
    "traffic.head(2)"
   ]
  },
  {
   "cell_type": "code",
   "execution_count": 19,
   "id": "ffee95f6",
   "metadata": {},
   "outputs": [
    {
     "data": {
      "text/plain": [
       "state                 object\n",
       "stop_date             object\n",
       "stop_time             object\n",
       "driver_gender         object\n",
       "driver_race           object\n",
       "violation_raw         object\n",
       "violation             object\n",
       "search_conducted        bool\n",
       "search_type           object\n",
       "stop_outcome          object\n",
       "is_arrested           object\n",
       "stop_duration         object\n",
       "drugs_related_stop      bool\n",
       "district              object\n",
       "dtype: object"
      ]
     },
     "execution_count": 19,
     "metadata": {},
     "output_type": "execute_result"
    }
   ],
   "source": [
    "traffic.dtypes"
   ]
  },
  {
   "cell_type": "code",
   "execution_count": 20,
   "id": "322142eb",
   "metadata": {},
   "outputs": [
    {
     "data": {
      "text/plain": [
       "dtype('O')"
      ]
     },
     "execution_count": 20,
     "metadata": {},
     "output_type": "execute_result"
    }
   ],
   "source": [
    "traffic.is_arrested.dtype"
   ]
  },
  {
   "cell_type": "markdown",
   "id": "5ae6c973",
   "metadata": {},
   "source": [
    "**Cast to_datetime()**"
   ]
  },
  {
   "cell_type": "code",
   "execution_count": 21,
   "id": "c3fbfd73",
   "metadata": {},
   "outputs": [
    {
     "data": {
      "text/plain": [
       "0    2005-01-04\n",
       "1    2005-01-23\n",
       "2    2005-02-17\n",
       "Name: stop_date, dtype: object"
      ]
     },
     "execution_count": 21,
     "metadata": {},
     "output_type": "execute_result"
    }
   ],
   "source": [
    "# create datetime of stop #\n",
    "traffic.stop_date = traffic.stop_date.replace('/','-')\n",
    "traffic.stop_date.head(3)"
   ]
  },
  {
   "cell_type": "code",
   "execution_count": 24,
   "id": "2f7594b3",
   "metadata": {},
   "outputs": [
    {
     "data": {
      "text/plain": [
       "0    2005-01-04 12:55\n",
       "1    2005-01-23 23:15\n",
       "2    2005-02-17 04:15\n",
       "Name: stop_date, dtype: object"
      ]
     },
     "execution_count": 24,
     "metadata": {},
     "output_type": "execute_result"
    }
   ],
   "source": [
    "combined = traffic.stop_date.str.cat(traffic.stop_time, sep=' ')\n",
    "combined.head(3)"
   ]
  },
  {
   "cell_type": "code",
   "execution_count": 28,
   "id": "901ac5f4",
   "metadata": {},
   "outputs": [
    {
     "data": {
      "text/html": [
       "<div>\n",
       "<style scoped>\n",
       "    .dataframe tbody tr th:only-of-type {\n",
       "        vertical-align: middle;\n",
       "    }\n",
       "\n",
       "    .dataframe tbody tr th {\n",
       "        vertical-align: top;\n",
       "    }\n",
       "\n",
       "    .dataframe thead th {\n",
       "        text-align: right;\n",
       "    }\n",
       "</style>\n",
       "<table border=\"1\" class=\"dataframe\">\n",
       "  <thead>\n",
       "    <tr style=\"text-align: right;\">\n",
       "      <th></th>\n",
       "      <th>state</th>\n",
       "      <th>stop_date</th>\n",
       "      <th>stop_time</th>\n",
       "      <th>driver_gender</th>\n",
       "      <th>driver_race</th>\n",
       "      <th>violation_raw</th>\n",
       "      <th>violation</th>\n",
       "      <th>search_conducted</th>\n",
       "      <th>search_type</th>\n",
       "      <th>stop_outcome</th>\n",
       "      <th>is_arrested</th>\n",
       "      <th>stop_duration</th>\n",
       "      <th>drugs_related_stop</th>\n",
       "      <th>district</th>\n",
       "      <th>stop_datetime</th>\n",
       "    </tr>\n",
       "  </thead>\n",
       "  <tbody>\n",
       "    <tr>\n",
       "      <th>0</th>\n",
       "      <td>RI</td>\n",
       "      <td>2005-01-04</td>\n",
       "      <td>12:55</td>\n",
       "      <td>M</td>\n",
       "      <td>White</td>\n",
       "      <td>Equipment/Inspection Violation</td>\n",
       "      <td>Equipment</td>\n",
       "      <td>False</td>\n",
       "      <td>NaN</td>\n",
       "      <td>Citation</td>\n",
       "      <td>False</td>\n",
       "      <td>0-15 Min</td>\n",
       "      <td>False</td>\n",
       "      <td>Zone X4</td>\n",
       "      <td>2005-01-04 12:55:00</td>\n",
       "    </tr>\n",
       "    <tr>\n",
       "      <th>1</th>\n",
       "      <td>RI</td>\n",
       "      <td>2005-01-23</td>\n",
       "      <td>23:15</td>\n",
       "      <td>M</td>\n",
       "      <td>White</td>\n",
       "      <td>Speeding</td>\n",
       "      <td>Speeding</td>\n",
       "      <td>False</td>\n",
       "      <td>NaN</td>\n",
       "      <td>Citation</td>\n",
       "      <td>False</td>\n",
       "      <td>0-15 Min</td>\n",
       "      <td>False</td>\n",
       "      <td>Zone K3</td>\n",
       "      <td>2005-01-23 23:15:00</td>\n",
       "    </tr>\n",
       "  </tbody>\n",
       "</table>\n",
       "</div>"
      ],
      "text/plain": [
       "  state   stop_date stop_time driver_gender driver_race  \\\n",
       "0    RI  2005-01-04     12:55             M       White   \n",
       "1    RI  2005-01-23     23:15             M       White   \n",
       "\n",
       "                    violation_raw  violation  search_conducted search_type  \\\n",
       "0  Equipment/Inspection Violation  Equipment             False         NaN   \n",
       "1                        Speeding   Speeding             False         NaN   \n",
       "\n",
       "  stop_outcome is_arrested stop_duration  drugs_related_stop district  \\\n",
       "0     Citation       False      0-15 Min               False  Zone X4   \n",
       "1     Citation       False      0-15 Min               False  Zone K3   \n",
       "\n",
       "        stop_datetime  \n",
       "0 2005-01-04 12:55:00  \n",
       "1 2005-01-23 23:15:00  "
      ]
     },
     "execution_count": 28,
     "metadata": {},
     "output_type": "execute_result"
    }
   ],
   "source": [
    "traffic['stop_datetime'] = pd.to_datetime(combined)\n",
    "traffic.head(2)"
   ]
  },
  {
   "cell_type": "code",
   "execution_count": 29,
   "id": "b0defeda",
   "metadata": {},
   "outputs": [
    {
     "data": {
      "text/plain": [
       "dtype('<M8[ns]')"
      ]
     },
     "execution_count": 29,
     "metadata": {},
     "output_type": "execute_result"
    }
   ],
   "source": [
    "traffic['stop_datetime'].dtype"
   ]
  },
  {
   "cell_type": "code",
   "execution_count": 45,
   "id": "646164a7",
   "metadata": {},
   "outputs": [
    {
     "name": "stdout",
     "output_type": "stream",
     "text": [
      "DatetimeIndex(['2005-01-04 12:55:00', '2005-01-23 23:15:00',\n",
      "               '2005-02-17 04:15:00', '2005-02-20 17:15:00',\n",
      "               '2005-02-24 01:20:00', '2005-03-14 10:00:00',\n",
      "               '2005-03-29 21:55:00', '2005-04-04 21:25:00',\n",
      "               '2005-07-14 11:20:00', '2005-07-14 19:55:00',\n",
      "               ...\n",
      "               '2015-12-31 13:23:00', '2015-12-31 18:59:00',\n",
      "               '2015-12-31 19:13:00', '2015-12-31 20:20:00',\n",
      "               '2015-12-31 20:50:00', '2015-12-31 21:21:00',\n",
      "               '2015-12-31 21:59:00', '2015-12-31 22:04:00',\n",
      "               '2015-12-31 22:09:00', '2015-12-31 22:47:00'],\n",
      "              dtype='datetime64[ns]', name='stop_datetime', length=91741, freq=None)\n"
     ]
    }
   ],
   "source": [
    "traffic.set_index('stop_datetime', inplace = True)\n",
    "print(traffic.index)"
   ]
  },
  {
   "cell_type": "code",
   "execution_count": 46,
   "id": "e0aefac1",
   "metadata": {},
   "outputs": [],
   "source": [
    "traffic.to_csv('/QXJ/Python/Datacamp/traffic.csv')"
   ]
  },
  {
   "cell_type": "markdown",
   "id": "e495fff9",
   "metadata": {},
   "source": [
    "## 2. Explore the relationship\n",
    "- Counting unique values for categorical data: \n",
    "    - .value_counts(): excluding Nan by default\n",
    "    - .value_counts().sum() -> total row \n",
    "    - .value_counts(normalize = True) -> proportion\n",
    "- Filter \n",
    "    - by one condition\n",
    "    - by multipe conditions: &, |\n",
    "- Correlation, not causation\n",
    "    - math with boolean values\n",
    "    - compare with groupby\n",
    "    - searching for a string"
   ]
  },
  {
   "cell_type": "code",
   "execution_count": 158,
   "id": "9a8469ac",
   "metadata": {},
   "outputs": [
    {
     "data": {
      "text/html": [
       "<div>\n",
       "<style scoped>\n",
       "    .dataframe tbody tr th:only-of-type {\n",
       "        vertical-align: middle;\n",
       "    }\n",
       "\n",
       "    .dataframe tbody tr th {\n",
       "        vertical-align: top;\n",
       "    }\n",
       "\n",
       "    .dataframe thead th {\n",
       "        text-align: right;\n",
       "    }\n",
       "</style>\n",
       "<table border=\"1\" class=\"dataframe\">\n",
       "  <thead>\n",
       "    <tr style=\"text-align: right;\">\n",
       "      <th></th>\n",
       "      <th>stop_datetime</th>\n",
       "      <th>state</th>\n",
       "      <th>stop_date</th>\n",
       "      <th>stop_time</th>\n",
       "      <th>driver_gender</th>\n",
       "      <th>driver_race</th>\n",
       "      <th>violation_raw</th>\n",
       "      <th>violation</th>\n",
       "      <th>search_conducted</th>\n",
       "      <th>search_type</th>\n",
       "      <th>stop_outcome</th>\n",
       "      <th>is_arrested</th>\n",
       "      <th>stop_duration</th>\n",
       "      <th>drugs_related_stop</th>\n",
       "      <th>district</th>\n",
       "    </tr>\n",
       "  </thead>\n",
       "  <tbody>\n",
       "    <tr>\n",
       "      <th>0</th>\n",
       "      <td>2005-01-04 12:55:00</td>\n",
       "      <td>RI</td>\n",
       "      <td>2005-01-04</td>\n",
       "      <td>12:55</td>\n",
       "      <td>M</td>\n",
       "      <td>White</td>\n",
       "      <td>Equipment/Inspection Violation</td>\n",
       "      <td>Equipment</td>\n",
       "      <td>False</td>\n",
       "      <td>NaN</td>\n",
       "      <td>Citation</td>\n",
       "      <td>False</td>\n",
       "      <td>0-15 Min</td>\n",
       "      <td>False</td>\n",
       "      <td>Zone X4</td>\n",
       "    </tr>\n",
       "    <tr>\n",
       "      <th>1</th>\n",
       "      <td>2005-01-23 23:15:00</td>\n",
       "      <td>RI</td>\n",
       "      <td>2005-01-23</td>\n",
       "      <td>23:15</td>\n",
       "      <td>M</td>\n",
       "      <td>White</td>\n",
       "      <td>Speeding</td>\n",
       "      <td>Speeding</td>\n",
       "      <td>False</td>\n",
       "      <td>NaN</td>\n",
       "      <td>Citation</td>\n",
       "      <td>False</td>\n",
       "      <td>0-15 Min</td>\n",
       "      <td>False</td>\n",
       "      <td>Zone K3</td>\n",
       "    </tr>\n",
       "  </tbody>\n",
       "</table>\n",
       "</div>"
      ],
      "text/plain": [
       "         stop_datetime state   stop_date stop_time driver_gender driver_race  \\\n",
       "0  2005-01-04 12:55:00    RI  2005-01-04     12:55             M       White   \n",
       "1  2005-01-23 23:15:00    RI  2005-01-23     23:15             M       White   \n",
       "\n",
       "                    violation_raw  violation  search_conducted search_type  \\\n",
       "0  Equipment/Inspection Violation  Equipment             False         NaN   \n",
       "1                        Speeding   Speeding             False         NaN   \n",
       "\n",
       "  stop_outcome is_arrested stop_duration  drugs_related_stop district  \n",
       "0     Citation       False      0-15 Min               False  Zone X4  \n",
       "1     Citation       False      0-15 Min               False  Zone K3  "
      ]
     },
     "execution_count": 158,
     "metadata": {},
     "output_type": "execute_result"
    }
   ],
   "source": [
    "traffic = pd.read_csv('/QXJ/Python/Datacamp/traffic.csv')\n",
    "traffic.head(2)"
   ]
  },
  {
   "cell_type": "markdown",
   "id": "9a8a6b66",
   "metadata": {},
   "source": [
    "**Value counts**"
   ]
  },
  {
   "cell_type": "code",
   "execution_count": 3,
   "id": "ecc91b37",
   "metadata": {},
   "outputs": [
    {
     "data": {
      "text/plain": [
       "Citation            77092\n",
       "Warning              5137\n",
       "Arrest Driver        2735\n",
       "No Action             625\n",
       "N/D                   607\n",
       "Arrest Passenger      343\n",
       "Name: stop_outcome, dtype: int64"
      ]
     },
     "execution_count": 3,
     "metadata": {},
     "output_type": "execute_result"
    }
   ],
   "source": [
    "traffic.stop_outcome.value_counts()"
   ]
  },
  {
   "cell_type": "code",
   "execution_count": 4,
   "id": "42b7dba6",
   "metadata": {},
   "outputs": [
    {
     "data": {
      "text/plain": [
       "86539"
      ]
     },
     "execution_count": 4,
     "metadata": {},
     "output_type": "execute_result"
    }
   ],
   "source": [
    "# check the total rows\n",
    "traffic.stop_outcome.value_counts().sum()"
   ]
  },
  {
   "cell_type": "markdown",
   "id": "0032f89c",
   "metadata": {},
   "source": [
    "**Filtering DataFrame**"
   ]
  },
  {
   "cell_type": "code",
   "execution_count": 10,
   "id": "d7cca37f",
   "metadata": {},
   "outputs": [
    {
     "data": {
      "text/plain": [
       "(2735, 15)"
      ]
     },
     "execution_count": 10,
     "metadata": {},
     "output_type": "execute_result"
    }
   ],
   "source": [
    "arrest = traffic[traffic['stop_outcome'] == 'Arrest Driver']\n",
    "arrest.shape"
   ]
  },
  {
   "cell_type": "code",
   "execution_count": 12,
   "id": "85c17848",
   "metadata": {},
   "outputs": [
    {
     "data": {
      "text/plain": [
       "White       0.543327\n",
       "Black       0.243876\n",
       "Hispanic    0.196709\n",
       "Asian       0.015356\n",
       "Other       0.000731\n",
       "Name: driver_race, dtype: float64"
      ]
     },
     "execution_count": 12,
     "metadata": {},
     "output_type": "execute_result"
    }
   ],
   "source": [
    "arrest.driver_race.value_counts(normalize=True)"
   ]
  },
  {
   "cell_type": "code",
   "execution_count": 15,
   "id": "3390dd19",
   "metadata": {},
   "outputs": [
    {
     "data": {
      "text/plain": [
       "M    62762\n",
       "F    23774\n",
       "Name: driver_gender, dtype: int64"
      ]
     },
     "execution_count": 15,
     "metadata": {},
     "output_type": "execute_result"
    }
   ],
   "source": [
    "traffic['driver_gender'].value_counts()"
   ]
  },
  {
   "cell_type": "code",
   "execution_count": 16,
   "id": "18f24fe4",
   "metadata": {},
   "outputs": [
    {
     "data": {
      "text/plain": [
       "(556, 15)"
      ]
     },
     "execution_count": 16,
     "metadata": {},
     "output_type": "execute_result"
    }
   ],
   "source": [
    "female_arrested = traffic[(traffic['stop_outcome'] == 'Arrest Driver') &\n",
    "                          (traffic['driver_gender'] == 'F')]\n",
    "female_arrested.shape"
   ]
  },
  {
   "cell_type": "markdown",
   "id": "76d7a3dd",
   "metadata": {},
   "source": [
    "**Math with Boolean type data**"
   ]
  },
  {
   "cell_type": "code",
   "execution_count": 56,
   "id": "45077e12",
   "metadata": {},
   "outputs": [
    {
     "data": {
      "text/plain": [
       "dtype('O')"
      ]
     },
     "execution_count": 56,
     "metadata": {},
     "output_type": "execute_result"
    }
   ],
   "source": [
    "traffic.is_arrested.dtype"
   ]
  },
  {
   "cell_type": "code",
   "execution_count": 151,
   "id": "078098c6",
   "metadata": {},
   "outputs": [
    {
     "data": {
      "text/plain": [
       "0        False\n",
       "1        False\n",
       "2        False\n",
       "3         True\n",
       "4        False\n",
       "         ...  \n",
       "91736    False\n",
       "91737    False\n",
       "91738    False\n",
       "91739    False\n",
       "91740    False\n",
       "Name: is_arrested, Length: 91741, dtype: boolean"
      ]
     },
     "execution_count": 151,
     "metadata": {},
     "output_type": "execute_result"
    }
   ],
   "source": [
    "traffic.is_arrested.astype('boolean')"
   ]
  },
  {
   "cell_type": "code",
   "execution_count": 19,
   "id": "4c7e7cab",
   "metadata": {},
   "outputs": [
    {
     "data": {
      "text/plain": [
       "False    0.964432\n",
       "True     0.035568\n",
       "Name: is_arrested, dtype: float64"
      ]
     },
     "execution_count": 19,
     "metadata": {},
     "output_type": "execute_result"
    }
   ],
   "source": [
    "traffic.is_arrested.value_counts(normalize=True)"
   ]
  },
  {
   "cell_type": "code",
   "execution_count": 20,
   "id": "ad3feeb7",
   "metadata": {},
   "outputs": [
    {
     "data": {
      "text/plain": [
       "0.03556777868937704"
      ]
     },
     "execution_count": 20,
     "metadata": {},
     "output_type": "execute_result"
    }
   ],
   "source": [
    "traffic.is_arrested.mean()"
   ]
  },
  {
   "cell_type": "markdown",
   "id": "6cff8b87",
   "metadata": {},
   "source": [
    "**Comparing with groupby(str)**"
   ]
  },
  {
   "cell_type": "code",
   "execution_count": 24,
   "id": "1ce57f32",
   "metadata": {},
   "outputs": [
    {
     "data": {
      "text/plain": [
       "district  driver_gender\n",
       "Zone K1   F                0.019169\n",
       "          M                0.026588\n",
       "Zone K2   F                0.022196\n",
       "          M                0.034285\n",
       "Zone K3   F                0.025156\n",
       "          M                0.034961\n",
       "Zone X1   F                0.019646\n",
       "          M                0.024563\n",
       "Zone X3   F                0.027188\n",
       "          M                0.038166\n",
       "Zone X4   F                0.042149\n",
       "          M                0.049956\n",
       "Name: is_arrested, dtype: float64"
      ]
     },
     "execution_count": 24,
     "metadata": {},
     "output_type": "execute_result"
    }
   ],
   "source": [
    "traffic.groupby(['district', 'driver_gender'])['is_arrested'].mean()"
   ]
  },
  {
   "cell_type": "markdown",
   "id": "166d1367",
   "metadata": {},
   "source": [
    "**Searching for a string**"
   ]
  },
  {
   "cell_type": "code",
   "execution_count": 26,
   "id": "81755e97",
   "metadata": {},
   "outputs": [
    {
     "data": {
      "text/plain": [
       "False    88434\n",
       "True      3307\n",
       "Name: search_conducted, dtype: int64"
      ]
     },
     "execution_count": 26,
     "metadata": {},
     "output_type": "execute_result"
    }
   ],
   "source": [
    "traffic.search_conducted.value_counts()"
   ]
  },
  {
   "cell_type": "code",
   "execution_count": 29,
   "id": "c1a46f38",
   "metadata": {},
   "outputs": [
    {
     "data": {
      "text/plain": [
       "NaN                                                         88434\n",
       "Incident to Arrest                                           1290\n",
       "Probable Cause                                                924\n",
       "Inventory                                                     219\n",
       "Reasonable Suspicion                                          214\n",
       "Protective Frisk                                              164\n",
       "Incident to Arrest,Inventory                                  123\n",
       "Incident to Arrest,Probable Cause                             100\n",
       "Probable Cause,Reasonable Suspicion                            54\n",
       "Incident to Arrest,Inventory,Probable Cause                    35\n",
       "Probable Cause,Protective Frisk                                35\n",
       "Incident to Arrest,Protective Frisk                            33\n",
       "Inventory,Probable Cause                                       25\n",
       "Protective Frisk,Reasonable Suspicion                          19\n",
       "Incident to Arrest,Inventory,Protective Frisk                  18\n",
       "Incident to Arrest,Probable Cause,Protective Frisk             13\n",
       "Inventory,Protective Frisk                                     12\n",
       "Incident to Arrest,Reasonable Suspicion                         8\n",
       "Probable Cause,Protective Frisk,Reasonable Suspicion            5\n",
       "Incident to Arrest,Probable Cause,Reasonable Suspicion          5\n",
       "Incident to Arrest,Inventory,Reasonable Suspicion               4\n",
       "Incident to Arrest,Protective Frisk,Reasonable Suspicion        2\n",
       "Inventory,Reasonable Suspicion                                  2\n",
       "Inventory,Protective Frisk,Reasonable Suspicion                 1\n",
       "Inventory,Probable Cause,Reasonable Suspicion                   1\n",
       "Inventory,Probable Cause,Protective Frisk                       1\n",
       "Name: search_type, dtype: int64"
      ]
     },
     "execution_count": 29,
     "metadata": {},
     "output_type": "execute_result"
    }
   ],
   "source": [
    "traffic.search_type.value_counts(dropna=False)"
   ]
  },
  {
   "cell_type": "code",
   "execution_count": 33,
   "id": "a3f6362d",
   "metadata": {},
   "outputs": [],
   "source": [
    "# searching for a string \n",
    "# return false when it finds a missing value\n",
    "traffic['inventory'] = traffic['search_type'].str.contains('Inventory', na = False)"
   ]
  },
  {
   "cell_type": "code",
   "execution_count": 34,
   "id": "2b2b5b07",
   "metadata": {},
   "outputs": [
    {
     "data": {
      "text/plain": [
       "dtype('bool')"
      ]
     },
     "execution_count": 34,
     "metadata": {},
     "output_type": "execute_result"
    }
   ],
   "source": [
    "traffic['inventory'].dtype"
   ]
  },
  {
   "cell_type": "code",
   "execution_count": 35,
   "id": "ba8503c0",
   "metadata": {},
   "outputs": [
    {
     "data": {
      "text/plain": [
       "0    False\n",
       "1    False\n",
       "2    False\n",
       "Name: inventory, dtype: bool"
      ]
     },
     "execution_count": 35,
     "metadata": {},
     "output_type": "execute_result"
    }
   ],
   "source": [
    "traffic['inventory'].head(3)"
   ]
  },
  {
   "cell_type": "code",
   "execution_count": 36,
   "id": "8c5fcb0b",
   "metadata": {},
   "outputs": [
    {
     "data": {
      "text/plain": [
       "441"
      ]
     },
     "execution_count": 36,
     "metadata": {},
     "output_type": "execute_result"
    }
   ],
   "source": [
    "traffic['inventory'].sum()\n",
    "# 441 times of search include inventory, more than 219 which is alone inventory"
   ]
  },
  {
   "cell_type": "code",
   "execution_count": 37,
   "id": "ad7e2e88",
   "metadata": {},
   "outputs": [
    {
     "data": {
      "text/plain": [
       "0.13335349259147264"
      ]
     },
     "execution_count": 37,
     "metadata": {},
     "output_type": "execute_result"
    }
   ],
   "source": [
    "# calculating the inventory rate: noted if there are other column based conditions!!\n",
    "searched = traffic[traffic['search_conducted']==True].inventory.mean()\n",
    "searched"
   ]
  },
  {
   "cell_type": "markdown",
   "id": "87cd9e60",
   "metadata": {},
   "source": [
    "## 3. Visual exploratory data analysis\n",
    "- Accessing datetime attributes\n",
    "- .dt.month()\n",
    "- .index.month()\n",
    "- Resampling: df[col].resample('W').mean() -> for datetime_like type\n",
    "- Computing a frequency table: pd.crosstab(row, column)"
   ]
  },
  {
   "cell_type": "markdown",
   "id": "23da0248",
   "metadata": {},
   "source": [
    "**Accessing datetime attributes**"
   ]
  },
  {
   "cell_type": "code",
   "execution_count": 44,
   "id": "7f94ba19",
   "metadata": {},
   "outputs": [
    {
     "data": {
      "text/html": [
       "<div>\n",
       "<style scoped>\n",
       "    .dataframe tbody tr th:only-of-type {\n",
       "        vertical-align: middle;\n",
       "    }\n",
       "\n",
       "    .dataframe tbody tr th {\n",
       "        vertical-align: top;\n",
       "    }\n",
       "\n",
       "    .dataframe thead th {\n",
       "        text-align: right;\n",
       "    }\n",
       "</style>\n",
       "<table border=\"1\" class=\"dataframe\">\n",
       "  <thead>\n",
       "    <tr style=\"text-align: right;\">\n",
       "      <th></th>\n",
       "      <th>stop_datetime</th>\n",
       "      <th>state</th>\n",
       "      <th>stop_date</th>\n",
       "      <th>stop_time</th>\n",
       "      <th>driver_gender</th>\n",
       "      <th>driver_race</th>\n",
       "      <th>violation_raw</th>\n",
       "      <th>violation</th>\n",
       "      <th>search_conducted</th>\n",
       "      <th>search_type</th>\n",
       "      <th>stop_outcome</th>\n",
       "      <th>is_arrested</th>\n",
       "      <th>stop_duration</th>\n",
       "      <th>drugs_related_stop</th>\n",
       "      <th>district</th>\n",
       "      <th>inventory</th>\n",
       "    </tr>\n",
       "  </thead>\n",
       "  <tbody>\n",
       "    <tr>\n",
       "      <th>0</th>\n",
       "      <td>2005-01-04 12:55:00</td>\n",
       "      <td>RI</td>\n",
       "      <td>2005-01-04</td>\n",
       "      <td>12:55</td>\n",
       "      <td>M</td>\n",
       "      <td>White</td>\n",
       "      <td>Equipment/Inspection Violation</td>\n",
       "      <td>Equipment</td>\n",
       "      <td>False</td>\n",
       "      <td>NaN</td>\n",
       "      <td>Citation</td>\n",
       "      <td>False</td>\n",
       "      <td>0-15 Min</td>\n",
       "      <td>False</td>\n",
       "      <td>Zone X4</td>\n",
       "      <td>False</td>\n",
       "    </tr>\n",
       "    <tr>\n",
       "      <th>1</th>\n",
       "      <td>2005-01-23 23:15:00</td>\n",
       "      <td>RI</td>\n",
       "      <td>2005-01-23</td>\n",
       "      <td>23:15</td>\n",
       "      <td>M</td>\n",
       "      <td>White</td>\n",
       "      <td>Speeding</td>\n",
       "      <td>Speeding</td>\n",
       "      <td>False</td>\n",
       "      <td>NaN</td>\n",
       "      <td>Citation</td>\n",
       "      <td>False</td>\n",
       "      <td>0-15 Min</td>\n",
       "      <td>False</td>\n",
       "      <td>Zone K3</td>\n",
       "      <td>False</td>\n",
       "    </tr>\n",
       "    <tr>\n",
       "      <th>2</th>\n",
       "      <td>2005-02-17 04:15:00</td>\n",
       "      <td>RI</td>\n",
       "      <td>2005-02-17</td>\n",
       "      <td>04:15</td>\n",
       "      <td>M</td>\n",
       "      <td>White</td>\n",
       "      <td>Speeding</td>\n",
       "      <td>Speeding</td>\n",
       "      <td>False</td>\n",
       "      <td>NaN</td>\n",
       "      <td>Citation</td>\n",
       "      <td>False</td>\n",
       "      <td>0-15 Min</td>\n",
       "      <td>False</td>\n",
       "      <td>Zone X4</td>\n",
       "      <td>False</td>\n",
       "    </tr>\n",
       "    <tr>\n",
       "      <th>3</th>\n",
       "      <td>2005-02-20 17:15:00</td>\n",
       "      <td>RI</td>\n",
       "      <td>2005-02-20</td>\n",
       "      <td>17:15</td>\n",
       "      <td>M</td>\n",
       "      <td>White</td>\n",
       "      <td>Call for Service</td>\n",
       "      <td>Other</td>\n",
       "      <td>False</td>\n",
       "      <td>NaN</td>\n",
       "      <td>Arrest Driver</td>\n",
       "      <td>True</td>\n",
       "      <td>16-30 Min</td>\n",
       "      <td>False</td>\n",
       "      <td>Zone X1</td>\n",
       "      <td>False</td>\n",
       "    </tr>\n",
       "    <tr>\n",
       "      <th>4</th>\n",
       "      <td>2005-02-24 01:20:00</td>\n",
       "      <td>RI</td>\n",
       "      <td>2005-02-24</td>\n",
       "      <td>01:20</td>\n",
       "      <td>F</td>\n",
       "      <td>White</td>\n",
       "      <td>Speeding</td>\n",
       "      <td>Speeding</td>\n",
       "      <td>False</td>\n",
       "      <td>NaN</td>\n",
       "      <td>Citation</td>\n",
       "      <td>False</td>\n",
       "      <td>0-15 Min</td>\n",
       "      <td>False</td>\n",
       "      <td>Zone X3</td>\n",
       "      <td>False</td>\n",
       "    </tr>\n",
       "    <tr>\n",
       "      <th>...</th>\n",
       "      <td>...</td>\n",
       "      <td>...</td>\n",
       "      <td>...</td>\n",
       "      <td>...</td>\n",
       "      <td>...</td>\n",
       "      <td>...</td>\n",
       "      <td>...</td>\n",
       "      <td>...</td>\n",
       "      <td>...</td>\n",
       "      <td>...</td>\n",
       "      <td>...</td>\n",
       "      <td>...</td>\n",
       "      <td>...</td>\n",
       "      <td>...</td>\n",
       "      <td>...</td>\n",
       "      <td>...</td>\n",
       "    </tr>\n",
       "    <tr>\n",
       "      <th>91736</th>\n",
       "      <td>2015-12-31 21:21:00</td>\n",
       "      <td>RI</td>\n",
       "      <td>2015-12-31</td>\n",
       "      <td>21:21</td>\n",
       "      <td>F</td>\n",
       "      <td>Black</td>\n",
       "      <td>Other Traffic Violation</td>\n",
       "      <td>Moving violation</td>\n",
       "      <td>False</td>\n",
       "      <td>NaN</td>\n",
       "      <td>Citation</td>\n",
       "      <td>False</td>\n",
       "      <td>0-15 Min</td>\n",
       "      <td>False</td>\n",
       "      <td>Zone K2</td>\n",
       "      <td>False</td>\n",
       "    </tr>\n",
       "    <tr>\n",
       "      <th>91737</th>\n",
       "      <td>2015-12-31 21:59:00</td>\n",
       "      <td>RI</td>\n",
       "      <td>2015-12-31</td>\n",
       "      <td>21:59</td>\n",
       "      <td>F</td>\n",
       "      <td>White</td>\n",
       "      <td>Speeding</td>\n",
       "      <td>Speeding</td>\n",
       "      <td>False</td>\n",
       "      <td>NaN</td>\n",
       "      <td>Citation</td>\n",
       "      <td>False</td>\n",
       "      <td>0-15 Min</td>\n",
       "      <td>False</td>\n",
       "      <td>Zone K3</td>\n",
       "      <td>False</td>\n",
       "    </tr>\n",
       "    <tr>\n",
       "      <th>91738</th>\n",
       "      <td>2015-12-31 22:04:00</td>\n",
       "      <td>RI</td>\n",
       "      <td>2015-12-31</td>\n",
       "      <td>22:04</td>\n",
       "      <td>M</td>\n",
       "      <td>White</td>\n",
       "      <td>Other Traffic Violation</td>\n",
       "      <td>Moving violation</td>\n",
       "      <td>False</td>\n",
       "      <td>NaN</td>\n",
       "      <td>Citation</td>\n",
       "      <td>False</td>\n",
       "      <td>0-15 Min</td>\n",
       "      <td>False</td>\n",
       "      <td>Zone X3</td>\n",
       "      <td>False</td>\n",
       "    </tr>\n",
       "    <tr>\n",
       "      <th>91739</th>\n",
       "      <td>2015-12-31 22:09:00</td>\n",
       "      <td>RI</td>\n",
       "      <td>2015-12-31</td>\n",
       "      <td>22:09</td>\n",
       "      <td>F</td>\n",
       "      <td>Hispanic</td>\n",
       "      <td>Equipment/Inspection Violation</td>\n",
       "      <td>Equipment</td>\n",
       "      <td>False</td>\n",
       "      <td>NaN</td>\n",
       "      <td>Warning</td>\n",
       "      <td>False</td>\n",
       "      <td>0-15 Min</td>\n",
       "      <td>False</td>\n",
       "      <td>Zone K3</td>\n",
       "      <td>False</td>\n",
       "    </tr>\n",
       "    <tr>\n",
       "      <th>91740</th>\n",
       "      <td>2015-12-31 22:47:00</td>\n",
       "      <td>RI</td>\n",
       "      <td>2015-12-31</td>\n",
       "      <td>22:47</td>\n",
       "      <td>M</td>\n",
       "      <td>White</td>\n",
       "      <td>Registration Violation</td>\n",
       "      <td>Registration/plates</td>\n",
       "      <td>False</td>\n",
       "      <td>NaN</td>\n",
       "      <td>Citation</td>\n",
       "      <td>False</td>\n",
       "      <td>0-15 Min</td>\n",
       "      <td>False</td>\n",
       "      <td>Zone X4</td>\n",
       "      <td>False</td>\n",
       "    </tr>\n",
       "  </tbody>\n",
       "</table>\n",
       "<p>91741 rows × 16 columns</p>\n",
       "</div>"
      ],
      "text/plain": [
       "             stop_datetime state   stop_date stop_time driver_gender  \\\n",
       "0      2005-01-04 12:55:00    RI  2005-01-04     12:55             M   \n",
       "1      2005-01-23 23:15:00    RI  2005-01-23     23:15             M   \n",
       "2      2005-02-17 04:15:00    RI  2005-02-17     04:15             M   \n",
       "3      2005-02-20 17:15:00    RI  2005-02-20     17:15             M   \n",
       "4      2005-02-24 01:20:00    RI  2005-02-24     01:20             F   \n",
       "...                    ...   ...         ...       ...           ...   \n",
       "91736  2015-12-31 21:21:00    RI  2015-12-31     21:21             F   \n",
       "91737  2015-12-31 21:59:00    RI  2015-12-31     21:59             F   \n",
       "91738  2015-12-31 22:04:00    RI  2015-12-31     22:04             M   \n",
       "91739  2015-12-31 22:09:00    RI  2015-12-31     22:09             F   \n",
       "91740  2015-12-31 22:47:00    RI  2015-12-31     22:47             M   \n",
       "\n",
       "      driver_race                   violation_raw            violation  \\\n",
       "0           White  Equipment/Inspection Violation            Equipment   \n",
       "1           White                        Speeding             Speeding   \n",
       "2           White                        Speeding             Speeding   \n",
       "3           White                Call for Service                Other   \n",
       "4           White                        Speeding             Speeding   \n",
       "...           ...                             ...                  ...   \n",
       "91736       Black         Other Traffic Violation     Moving violation   \n",
       "91737       White                        Speeding             Speeding   \n",
       "91738       White         Other Traffic Violation     Moving violation   \n",
       "91739    Hispanic  Equipment/Inspection Violation            Equipment   \n",
       "91740       White          Registration Violation  Registration/plates   \n",
       "\n",
       "       search_conducted search_type   stop_outcome is_arrested stop_duration  \\\n",
       "0                 False         NaN       Citation       False      0-15 Min   \n",
       "1                 False         NaN       Citation       False      0-15 Min   \n",
       "2                 False         NaN       Citation       False      0-15 Min   \n",
       "3                 False         NaN  Arrest Driver        True     16-30 Min   \n",
       "4                 False         NaN       Citation       False      0-15 Min   \n",
       "...                 ...         ...            ...         ...           ...   \n",
       "91736             False         NaN       Citation       False      0-15 Min   \n",
       "91737             False         NaN       Citation       False      0-15 Min   \n",
       "91738             False         NaN       Citation       False      0-15 Min   \n",
       "91739             False         NaN        Warning       False      0-15 Min   \n",
       "91740             False         NaN       Citation       False      0-15 Min   \n",
       "\n",
       "       drugs_related_stop district  inventory  \n",
       "0                   False  Zone X4      False  \n",
       "1                   False  Zone K3      False  \n",
       "2                   False  Zone X4      False  \n",
       "3                   False  Zone X1      False  \n",
       "4                   False  Zone X3      False  \n",
       "...                   ...      ...        ...  \n",
       "91736               False  Zone K2      False  \n",
       "91737               False  Zone K3      False  \n",
       "91738               False  Zone X3      False  \n",
       "91739               False  Zone K3      False  \n",
       "91740               False  Zone X4      False  \n",
       "\n",
       "[91741 rows x 16 columns]"
      ]
     },
     "execution_count": 44,
     "metadata": {},
     "output_type": "execute_result"
    }
   ],
   "source": [
    "traffic.reset_index(drop=True)"
   ]
  },
  {
   "cell_type": "code",
   "execution_count": 47,
   "id": "b0a948da",
   "metadata": {},
   "outputs": [],
   "source": [
    "traffic['stop_datetime'] = pd.to_datetime(traffic['stop_datetime'])"
   ]
  },
  {
   "cell_type": "code",
   "execution_count": 48,
   "id": "dc25d3cd",
   "metadata": {},
   "outputs": [
    {
     "data": {
      "text/plain": [
       "dtype('<M8[ns]')"
      ]
     },
     "execution_count": 48,
     "metadata": {},
     "output_type": "execute_result"
    }
   ],
   "source": [
    "traffic['stop_datetime'].dtype"
   ]
  },
  {
   "cell_type": "code",
   "execution_count": 50,
   "id": "8b0abd1e",
   "metadata": {},
   "outputs": [
    {
     "data": {
      "text/plain": [
       "0    1\n",
       "1    1\n",
       "Name: month, dtype: int64"
      ]
     },
     "execution_count": 50,
     "metadata": {},
     "output_type": "execute_result"
    }
   ],
   "source": [
    "traffic['month'] = traffic['stop_datetime'].dt.month\n",
    "traffic['month'].head(2)"
   ]
  },
  {
   "cell_type": "code",
   "execution_count": 152,
   "id": "98e934ac",
   "metadata": {},
   "outputs": [],
   "source": [
    "traffic.set_index('stop_datetime', inplace = True)"
   ]
  },
  {
   "cell_type": "code",
   "execution_count": 52,
   "id": "1b17d951",
   "metadata": {},
   "outputs": [
    {
     "data": {
      "text/html": [
       "<div>\n",
       "<style scoped>\n",
       "    .dataframe tbody tr th:only-of-type {\n",
       "        vertical-align: middle;\n",
       "    }\n",
       "\n",
       "    .dataframe tbody tr th {\n",
       "        vertical-align: top;\n",
       "    }\n",
       "\n",
       "    .dataframe thead th {\n",
       "        text-align: right;\n",
       "    }\n",
       "</style>\n",
       "<table border=\"1\" class=\"dataframe\">\n",
       "  <thead>\n",
       "    <tr style=\"text-align: right;\">\n",
       "      <th></th>\n",
       "      <th>state</th>\n",
       "      <th>stop_date</th>\n",
       "      <th>stop_time</th>\n",
       "      <th>driver_gender</th>\n",
       "      <th>driver_race</th>\n",
       "      <th>violation_raw</th>\n",
       "      <th>violation</th>\n",
       "      <th>search_conducted</th>\n",
       "      <th>search_type</th>\n",
       "      <th>stop_outcome</th>\n",
       "      <th>is_arrested</th>\n",
       "      <th>stop_duration</th>\n",
       "      <th>drugs_related_stop</th>\n",
       "      <th>district</th>\n",
       "      <th>inventory</th>\n",
       "      <th>month</th>\n",
       "    </tr>\n",
       "    <tr>\n",
       "      <th>stop_datetime</th>\n",
       "      <th></th>\n",
       "      <th></th>\n",
       "      <th></th>\n",
       "      <th></th>\n",
       "      <th></th>\n",
       "      <th></th>\n",
       "      <th></th>\n",
       "      <th></th>\n",
       "      <th></th>\n",
       "      <th></th>\n",
       "      <th></th>\n",
       "      <th></th>\n",
       "      <th></th>\n",
       "      <th></th>\n",
       "      <th></th>\n",
       "      <th></th>\n",
       "    </tr>\n",
       "  </thead>\n",
       "  <tbody>\n",
       "    <tr>\n",
       "      <th>2005-01-04 12:55:00</th>\n",
       "      <td>RI</td>\n",
       "      <td>2005-01-04</td>\n",
       "      <td>12:55</td>\n",
       "      <td>M</td>\n",
       "      <td>White</td>\n",
       "      <td>Equipment/Inspection Violation</td>\n",
       "      <td>Equipment</td>\n",
       "      <td>False</td>\n",
       "      <td>NaN</td>\n",
       "      <td>Citation</td>\n",
       "      <td>False</td>\n",
       "      <td>0-15 Min</td>\n",
       "      <td>False</td>\n",
       "      <td>Zone X4</td>\n",
       "      <td>False</td>\n",
       "      <td>1</td>\n",
       "    </tr>\n",
       "    <tr>\n",
       "      <th>2005-01-23 23:15:00</th>\n",
       "      <td>RI</td>\n",
       "      <td>2005-01-23</td>\n",
       "      <td>23:15</td>\n",
       "      <td>M</td>\n",
       "      <td>White</td>\n",
       "      <td>Speeding</td>\n",
       "      <td>Speeding</td>\n",
       "      <td>False</td>\n",
       "      <td>NaN</td>\n",
       "      <td>Citation</td>\n",
       "      <td>False</td>\n",
       "      <td>0-15 Min</td>\n",
       "      <td>False</td>\n",
       "      <td>Zone K3</td>\n",
       "      <td>False</td>\n",
       "      <td>1</td>\n",
       "    </tr>\n",
       "  </tbody>\n",
       "</table>\n",
       "</div>"
      ],
      "text/plain": [
       "                    state   stop_date stop_time driver_gender driver_race  \\\n",
       "stop_datetime                                                               \n",
       "2005-01-04 12:55:00    RI  2005-01-04     12:55             M       White   \n",
       "2005-01-23 23:15:00    RI  2005-01-23     23:15             M       White   \n",
       "\n",
       "                                      violation_raw  violation  \\\n",
       "stop_datetime                                                    \n",
       "2005-01-04 12:55:00  Equipment/Inspection Violation  Equipment   \n",
       "2005-01-23 23:15:00                        Speeding   Speeding   \n",
       "\n",
       "                     search_conducted search_type stop_outcome is_arrested  \\\n",
       "stop_datetime                                                                \n",
       "2005-01-04 12:55:00             False         NaN     Citation       False   \n",
       "2005-01-23 23:15:00             False         NaN     Citation       False   \n",
       "\n",
       "                    stop_duration  drugs_related_stop district  inventory  \\\n",
       "stop_datetime                                                               \n",
       "2005-01-04 12:55:00      0-15 Min               False  Zone X4      False   \n",
       "2005-01-23 23:15:00      0-15 Min               False  Zone K3      False   \n",
       "\n",
       "                     month  \n",
       "stop_datetime               \n",
       "2005-01-04 12:55:00      1  \n",
       "2005-01-23 23:15:00      1  "
      ]
     },
     "execution_count": 52,
     "metadata": {},
     "output_type": "execute_result"
    }
   ],
   "source": [
    "traffic.head(2)"
   ]
  },
  {
   "cell_type": "code",
   "execution_count": 53,
   "id": "27e0f5ed",
   "metadata": {},
   "outputs": [
    {
     "data": {
      "text/plain": [
       "Int64Index([ 1,  1,  2,  2,  2,  3,  3,  4,  7,  7,\n",
       "            ...\n",
       "            12, 12, 12, 12, 12, 12, 12, 12, 12, 12],\n",
       "           dtype='int64', name='stop_datetime', length=91741)"
      ]
     },
     "execution_count": 53,
     "metadata": {},
     "output_type": "execute_result"
    }
   ],
   "source": [
    "traffic.index.month"
   ]
  },
  {
   "cell_type": "code",
   "execution_count": 64,
   "id": "230d8a40",
   "metadata": {},
   "outputs": [
    {
     "data": {
      "text/plain": [
       "stop_datetime\n",
       "1     0.038462\n",
       "2     0.035282\n",
       "3     0.036825\n",
       "4     0.033676\n",
       "5     0.035872\n",
       "6     0.030998\n",
       "7     0.038071\n",
       "8     0.036572\n",
       "9     0.030653\n",
       "10    0.036113\n",
       "11    0.033070\n",
       "12    0.041262\n",
       "Name: is_arrested, dtype: float64"
      ]
     },
     "execution_count": 64,
     "metadata": {},
     "output_type": "execute_result"
    }
   ],
   "source": [
    "is_arrested_mean = traffic.groupby(traffic.index.month).is_arrested.mean()\n",
    "is_arrested_mean"
   ]
  },
  {
   "cell_type": "code",
   "execution_count": 66,
   "id": "1d2e7d81",
   "metadata": {},
   "outputs": [
    {
     "data": {
      "image/png": "[encoded data removed]",
      "text/plain": [
       "<Figure size 432x288 with 1 Axes>"
      ]
     },
     "metadata": {
      "needs_background": "light"
     },
     "output_type": "display_data"
    }
   ],
   "source": [
    "plt.plot(is_arrested_mean)\n",
    "plt.xlabel('Month')\n",
    "plt.ylabel('Proportion of arrested')\n",
    "plt.show()"
   ]
  },
  {
   "cell_type": "markdown",
   "id": "3b6c8899",
   "metadata": {},
   "source": [
    "**Resampling**\n",
    "<br>\n",
    "\n",
    "*Resampling generates a unique sampling distribution on the basis of the actual data. We can apply various frequency to resample our time series data.*\n",
    "\n",
    "\n",
    "Most commonly used time series frequency are –\n",
    "- W : weekly frequency\n",
    "- M : month end frequency\n",
    "- SM : semi-month end frequency (15th and end of month)\n",
    "- Q : quarter end frequency"
   ]
  },
  {
   "cell_type": "code",
   "execution_count": 74,
   "id": "69a4fc91",
   "metadata": {},
   "outputs": [],
   "source": [
    "monthly_arrested = traffic['is_arrested'].resample('M').mean()"
   ]
  },
  {
   "cell_type": "code",
   "execution_count": 75,
   "id": "3dd585e1",
   "metadata": {},
   "outputs": [],
   "source": [
    "monthly_drug = traffic['drugs_related_stop'].resample('M').mean()"
   ]
  },
  {
   "cell_type": "code",
   "execution_count": 79,
   "id": "79b53671",
   "metadata": {},
   "outputs": [
    {
     "data": {
      "text/html": [
       "<div>\n",
       "<style scoped>\n",
       "    .dataframe tbody tr th:only-of-type {\n",
       "        vertical-align: middle;\n",
       "    }\n",
       "\n",
       "    .dataframe tbody tr th {\n",
       "        vertical-align: top;\n",
       "    }\n",
       "\n",
       "    .dataframe thead th {\n",
       "        text-align: right;\n",
       "    }\n",
       "</style>\n",
       "<table border=\"1\" class=\"dataframe\">\n",
       "  <thead>\n",
       "    <tr style=\"text-align: right;\">\n",
       "      <th></th>\n",
       "      <th>is_arrested</th>\n",
       "      <th>drugs_related_stop</th>\n",
       "    </tr>\n",
       "    <tr>\n",
       "      <th>stop_datetime</th>\n",
       "      <th></th>\n",
       "      <th></th>\n",
       "    </tr>\n",
       "  </thead>\n",
       "  <tbody>\n",
       "    <tr>\n",
       "      <th>2005-01-31</th>\n",
       "      <td>0.000000</td>\n",
       "      <td>0.0</td>\n",
       "    </tr>\n",
       "    <tr>\n",
       "      <th>2005-02-28</th>\n",
       "      <td>0.333333</td>\n",
       "      <td>0.0</td>\n",
       "    </tr>\n",
       "    <tr>\n",
       "      <th>2005-03-31</th>\n",
       "      <td>0.000000</td>\n",
       "      <td>0.0</td>\n",
       "    </tr>\n",
       "    <tr>\n",
       "      <th>2005-04-30</th>\n",
       "      <td>0.000000</td>\n",
       "      <td>0.0</td>\n",
       "    </tr>\n",
       "    <tr>\n",
       "      <th>2005-07-31</th>\n",
       "      <td>0.000000</td>\n",
       "      <td>0.0</td>\n",
       "    </tr>\n",
       "  </tbody>\n",
       "</table>\n",
       "</div>"
      ],
      "text/plain": [
       "               is_arrested  drugs_related_stop\n",
       "stop_datetime                                 \n",
       "2005-01-31        0.000000                 0.0\n",
       "2005-02-28        0.333333                 0.0\n",
       "2005-03-31        0.000000                 0.0\n",
       "2005-04-30        0.000000                 0.0\n",
       "2005-07-31        0.000000                 0.0"
      ]
     },
     "execution_count": 79,
     "metadata": {},
     "output_type": "execute_result"
    }
   ],
   "source": [
    "df = pd.concat([monthly_arrested, monthly_drug], axis = 1)\n",
    "df = df.dropna(subset = ['is_arrested', 'drugs_related_stop'])\n",
    "df.head()"
   ]
  },
  {
   "cell_type": "code",
   "execution_count": 83,
   "id": "92f69259",
   "metadata": {},
   "outputs": [
    {
     "data": {
      "image/png": "[encoded data removed]",
      "text/plain": [
       "<Figure size 432x288 with 2 Axes>"
      ]
     },
     "metadata": {
      "needs_background": "light"
     },
     "output_type": "display_data"
    }
   ],
   "source": [
    "df.plot( subplots = True )\n",
    "plt.show()"
   ]
  },
  {
   "cell_type": "code",
   "execution_count": 86,
   "id": "1c6b3d6a",
   "metadata": {},
   "outputs": [
    {
     "data": {
      "text/html": [
       "<div>\n",
       "<style scoped>\n",
       "    .dataframe tbody tr th:only-of-type {\n",
       "        vertical-align: middle;\n",
       "    }\n",
       "\n",
       "    .dataframe tbody tr th {\n",
       "        vertical-align: top;\n",
       "    }\n",
       "\n",
       "    .dataframe thead th {\n",
       "        text-align: right;\n",
       "    }\n",
       "</style>\n",
       "<table border=\"1\" class=\"dataframe\">\n",
       "  <thead>\n",
       "    <tr style=\"text-align: right;\">\n",
       "      <th>driver_gender</th>\n",
       "      <th>F</th>\n",
       "      <th>M</th>\n",
       "    </tr>\n",
       "    <tr>\n",
       "      <th>driver_race</th>\n",
       "      <th></th>\n",
       "      <th></th>\n",
       "    </tr>\n",
       "  </thead>\n",
       "  <tbody>\n",
       "    <tr>\n",
       "      <th>Asian</th>\n",
       "      <td>0.006367</td>\n",
       "      <td>0.021240</td>\n",
       "    </tr>\n",
       "    <tr>\n",
       "      <th>Black</th>\n",
       "      <td>0.030981</td>\n",
       "      <td>0.110983</td>\n",
       "    </tr>\n",
       "    <tr>\n",
       "      <th>Hispanic</th>\n",
       "      <td>0.022569</td>\n",
       "      <td>0.089835</td>\n",
       "    </tr>\n",
       "    <tr>\n",
       "      <th>Other</th>\n",
       "      <td>0.000612</td>\n",
       "      <td>0.002450</td>\n",
       "    </tr>\n",
       "    <tr>\n",
       "      <th>White</th>\n",
       "      <td>0.214200</td>\n",
       "      <td>0.500763</td>\n",
       "    </tr>\n",
       "  </tbody>\n",
       "</table>\n",
       "</div>"
      ],
      "text/plain": [
       "driver_gender         F         M\n",
       "driver_race                      \n",
       "Asian          0.006367  0.021240\n",
       "Black          0.030981  0.110983\n",
       "Hispanic       0.022569  0.089835\n",
       "Other          0.000612  0.002450\n",
       "White          0.214200  0.500763"
      ]
     },
     "execution_count": 86,
     "metadata": {},
     "output_type": "execute_result"
    }
   ],
   "source": [
    "table = pd.crosstab(traffic.driver_race, traffic.driver_gender, normalize = True)\n",
    "table"
   ]
  },
  {
   "cell_type": "code",
   "execution_count": 93,
   "id": "6b67799f",
   "metadata": {},
   "outputs": [
    {
     "data": {
      "image/png": "[encoded data removed]",
      "text/plain": [
       "<Figure size 432x288 with 1 Axes>"
      ]
     },
     "metadata": {
      "needs_background": "light"
     },
     "output_type": "display_data"
    }
   ],
   "source": [
    "table_small = table.loc['Asian':'Hispanic']\n",
    "table_small.plot(kind = 'bar', stacked = True)\n",
    "plt.show()"
   ]
  },
  {
   "cell_type": "markdown",
   "id": "997980c6",
   "metadata": {},
   "source": [
    "**Change datatype using map method**\n",
    "- .astype() only works when pands can infer how the convertion should be done\n",
    "- mapping = {} -> df[col_1] = df[col_1].map(mapping)\n",
    "- replace()"
   ]
  },
  {
   "cell_type": "code",
   "execution_count": 111,
   "id": "4083a5f3",
   "metadata": {},
   "outputs": [
    {
     "data": {
      "text/plain": [
       "violation\n",
       "Registration/plates    0.093438\n",
       "Equipment              0.064274\n",
       "Moving violation       0.057014\n",
       "Other                  0.045351\n",
       "Seat belt              0.031513\n",
       "Speeding               0.021560\n",
       "Name: search_conducted, dtype: float64"
      ]
     },
     "execution_count": 111,
     "metadata": {},
     "output_type": "execute_result"
    }
   ],
   "source": [
    "traffic_violation = traffic.groupby('violation')['search_conducted'].mean().sort_values(ascending = False)\n",
    "traffic_violation"
   ]
  },
  {
   "cell_type": "code",
   "execution_count": 108,
   "id": "945d2607",
   "metadata": {},
   "outputs": [
    {
     "data": {
      "image/png": "[encoded data removed]",
      "text/plain": [
       "<Figure size 432x288 with 1 Axes>"
      ]
     },
     "metadata": {
      "needs_background": "light"
     },
     "output_type": "display_data"
    }
   ],
   "source": [
    "traffic_violation.plot( kind = 'barh', color = 'green')\n",
    "plt.show()"
   ]
  },
  {
   "cell_type": "code",
   "execution_count": 116,
   "id": "0941862c",
   "metadata": {},
   "outputs": [
    {
     "name": "stdout",
     "output_type": "stream",
     "text": [
      "['0-15 Min' '16-30 Min' nan '30+ Min']\n",
      "[ 8. 23. nan 45.]\n"
     ]
    }
   ],
   "source": [
    "# Print the unique values in 'stop_duration'\n",
    "print(traffic.stop_duration.unique())\n",
    "\n",
    "# Create a dictionary that maps strings to integers\n",
    "mapping = {'0-15 Min': 8, '16-30 Min': 23, '30+ Min':45 }\n",
    "\n",
    "# Convert the 'stop_duration' strings to integers using the 'mapping'\n",
    "traffic['stop_minutes'] = traffic.stop_duration.map(mapping)\n",
    "\n",
    "# Print the unique values in 'stop_minutes'\n",
    "print(traffic.stop_minutes.unique())"
   ]
  },
  {
   "cell_type": "code",
   "execution_count": 118,
   "id": "296f224c",
   "metadata": {},
   "outputs": [
    {
     "name": "stdout",
     "output_type": "stream",
     "text": [
      "violation_raw\n",
      "APB                                 17.967033\n",
      "Call for Service                    22.140805\n",
      "Equipment/Inspection Violation      11.445340\n",
      "Motorist Assist/Courtesy            17.741463\n",
      "Other Traffic Violation             13.844490\n",
      "Registration Violation              13.736970\n",
      "Seatbelt Violation                   9.662815\n",
      "Special Detail/Directed Patrol      15.123632\n",
      "Speeding                            10.581509\n",
      "Suspicious Person                   14.910714\n",
      "Violation of City/Town Ordinance    13.254144\n",
      "Warrant                             24.055556\n",
      "Name: stop_minutes, dtype: float64\n"
     ]
    },
    {
     "data": {
      "image/png": "[encoded data removed]",
      "text/plain": [
       "<Figure size 432x288 with 1 Axes>"
      ]
     },
     "metadata": {
      "needs_background": "light"
     },
     "output_type": "display_data"
    }
   ],
   "source": [
    "# Calculate the mean 'stop_minutes' for each value in 'violation_raw'\n",
    "print(traffic.groupby('violation_raw')['stop_minutes'].mean())\n",
    "\n",
    "# Save the resulting Series as 'stop_length'\n",
    "stop_length = traffic.groupby('violation_raw')['stop_minutes'].mean()\n",
    "\n",
    "# Sort 'stop_length' by its values and create a horizontal bar plot\n",
    "stop_length.sort_values().plot(kind='barh')\n",
    "\n",
    "# Display the plot\n",
    "plt.show()"
   ]
  },
  {
   "cell_type": "markdown",
   "id": "5204e4f1",
   "metadata": {},
   "source": [
    "## 4. Analyzing the dataset\n",
    "- Examine the dateset: statistic \n",
    "- Convert to categorical data tyoe\n",
    "    - cats = pd.CategoricalDtype(['short', 'medium', 'long'], ordered = True)\n",
    "    - traffic['stop_length'] = traffic.stop_length.astype(cats)\n",
    "- Merging dataests\n",
    "- Converting a multi-index Series to DataFrame\n",
    "- multi-index Series.unstack()\n",
    "- pivot_table()"
   ]
  },
  {
   "cell_type": "markdown",
   "id": "3fc851be",
   "metadata": {},
   "source": [
    "**Switching to the weather dataset**"
   ]
  },
  {
   "cell_type": "code",
   "execution_count": 124,
   "id": "052f60a5",
   "metadata": {},
   "outputs": [
    {
     "data": {
      "text/html": [
       "<div>\n",
       "<style scoped>\n",
       "    .dataframe tbody tr th:only-of-type {\n",
       "        vertical-align: middle;\n",
       "    }\n",
       "\n",
       "    .dataframe tbody tr th {\n",
       "        vertical-align: top;\n",
       "    }\n",
       "\n",
       "    .dataframe thead th {\n",
       "        text-align: right;\n",
       "    }\n",
       "</style>\n",
       "<table border=\"1\" class=\"dataframe\">\n",
       "  <thead>\n",
       "    <tr style=\"text-align: right;\">\n",
       "      <th></th>\n",
       "      <th>STATION</th>\n",
       "      <th>DATE</th>\n",
       "      <th>TAVG</th>\n",
       "      <th>TMIN</th>\n",
       "      <th>TMAX</th>\n",
       "      <th>AWND</th>\n",
       "      <th>WSF2</th>\n",
       "      <th>WT01</th>\n",
       "      <th>WT02</th>\n",
       "      <th>WT03</th>\n",
       "      <th>...</th>\n",
       "      <th>WT11</th>\n",
       "      <th>WT13</th>\n",
       "      <th>WT14</th>\n",
       "      <th>WT15</th>\n",
       "      <th>WT16</th>\n",
       "      <th>WT17</th>\n",
       "      <th>WT18</th>\n",
       "      <th>WT19</th>\n",
       "      <th>WT21</th>\n",
       "      <th>WT22</th>\n",
       "    </tr>\n",
       "  </thead>\n",
       "  <tbody>\n",
       "    <tr>\n",
       "      <th>0</th>\n",
       "      <td>USW00014765</td>\n",
       "      <td>2005-01-01</td>\n",
       "      <td>44.0</td>\n",
       "      <td>35</td>\n",
       "      <td>53</td>\n",
       "      <td>8.95</td>\n",
       "      <td>25.1</td>\n",
       "      <td>1.0</td>\n",
       "      <td>NaN</td>\n",
       "      <td>NaN</td>\n",
       "      <td>...</td>\n",
       "      <td>NaN</td>\n",
       "      <td>1.0</td>\n",
       "      <td>NaN</td>\n",
       "      <td>NaN</td>\n",
       "      <td>NaN</td>\n",
       "      <td>NaN</td>\n",
       "      <td>NaN</td>\n",
       "      <td>NaN</td>\n",
       "      <td>NaN</td>\n",
       "      <td>NaN</td>\n",
       "    </tr>\n",
       "    <tr>\n",
       "      <th>1</th>\n",
       "      <td>USW00014765</td>\n",
       "      <td>2005-01-02</td>\n",
       "      <td>36.0</td>\n",
       "      <td>28</td>\n",
       "      <td>44</td>\n",
       "      <td>9.40</td>\n",
       "      <td>14.1</td>\n",
       "      <td>NaN</td>\n",
       "      <td>NaN</td>\n",
       "      <td>NaN</td>\n",
       "      <td>...</td>\n",
       "      <td>NaN</td>\n",
       "      <td>NaN</td>\n",
       "      <td>NaN</td>\n",
       "      <td>NaN</td>\n",
       "      <td>1.0</td>\n",
       "      <td>NaN</td>\n",
       "      <td>1.0</td>\n",
       "      <td>NaN</td>\n",
       "      <td>NaN</td>\n",
       "      <td>NaN</td>\n",
       "    </tr>\n",
       "    <tr>\n",
       "      <th>2</th>\n",
       "      <td>USW00014765</td>\n",
       "      <td>2005-01-03</td>\n",
       "      <td>49.0</td>\n",
       "      <td>44</td>\n",
       "      <td>53</td>\n",
       "      <td>6.93</td>\n",
       "      <td>17.0</td>\n",
       "      <td>1.0</td>\n",
       "      <td>NaN</td>\n",
       "      <td>NaN</td>\n",
       "      <td>...</td>\n",
       "      <td>NaN</td>\n",
       "      <td>1.0</td>\n",
       "      <td>NaN</td>\n",
       "      <td>NaN</td>\n",
       "      <td>1.0</td>\n",
       "      <td>NaN</td>\n",
       "      <td>NaN</td>\n",
       "      <td>NaN</td>\n",
       "      <td>NaN</td>\n",
       "      <td>NaN</td>\n",
       "    </tr>\n",
       "  </tbody>\n",
       "</table>\n",
       "<p>3 rows × 27 columns</p>\n",
       "</div>"
      ],
      "text/plain": [
       "       STATION        DATE  TAVG  TMIN  TMAX  AWND  WSF2  WT01  WT02  WT03  \\\n",
       "0  USW00014765  2005-01-01  44.0    35    53  8.95  25.1   1.0   NaN   NaN   \n",
       "1  USW00014765  2005-01-02  36.0    28    44  9.40  14.1   NaN   NaN   NaN   \n",
       "2  USW00014765  2005-01-03  49.0    44    53  6.93  17.0   1.0   NaN   NaN   \n",
       "\n",
       "   ...  WT11  WT13  WT14  WT15  WT16  WT17  WT18  WT19  WT21  WT22  \n",
       "0  ...   NaN   1.0   NaN   NaN   NaN   NaN   NaN   NaN   NaN   NaN  \n",
       "1  ...   NaN   NaN   NaN   NaN   1.0   NaN   1.0   NaN   NaN   NaN  \n",
       "2  ...   NaN   1.0   NaN   NaN   1.0   NaN   NaN   NaN   NaN   NaN  \n",
       "\n",
       "[3 rows x 27 columns]"
      ]
     },
     "execution_count": 124,
     "metadata": {},
     "output_type": "execute_result"
    }
   ],
   "source": [
    "weather.head(3)"
   ]
  },
  {
   "cell_type": "code",
   "execution_count": 126,
   "id": "90a29826",
   "metadata": {},
   "outputs": [
    {
     "data": {
      "text/html": [
       "<div>\n",
       "<style scoped>\n",
       "    .dataframe tbody tr th:only-of-type {\n",
       "        vertical-align: middle;\n",
       "    }\n",
       "\n",
       "    .dataframe tbody tr th {\n",
       "        vertical-align: top;\n",
       "    }\n",
       "\n",
       "    .dataframe thead th {\n",
       "        text-align: right;\n",
       "    }\n",
       "</style>\n",
       "<table border=\"1\" class=\"dataframe\">\n",
       "  <thead>\n",
       "    <tr style=\"text-align: right;\">\n",
       "      <th></th>\n",
       "      <th>AWND</th>\n",
       "      <th>WSF2</th>\n",
       "    </tr>\n",
       "  </thead>\n",
       "  <tbody>\n",
       "    <tr>\n",
       "      <th>count</th>\n",
       "      <td>4017.000000</td>\n",
       "      <td>4017.000000</td>\n",
       "    </tr>\n",
       "    <tr>\n",
       "      <th>mean</th>\n",
       "      <td>8.593707</td>\n",
       "      <td>19.274782</td>\n",
       "    </tr>\n",
       "    <tr>\n",
       "      <th>std</th>\n",
       "      <td>3.364601</td>\n",
       "      <td>5.623866</td>\n",
       "    </tr>\n",
       "    <tr>\n",
       "      <th>min</th>\n",
       "      <td>0.220000</td>\n",
       "      <td>4.900000</td>\n",
       "    </tr>\n",
       "    <tr>\n",
       "      <th>25%</th>\n",
       "      <td>6.260000</td>\n",
       "      <td>15.000000</td>\n",
       "    </tr>\n",
       "    <tr>\n",
       "      <th>50%</th>\n",
       "      <td>8.050000</td>\n",
       "      <td>17.900000</td>\n",
       "    </tr>\n",
       "    <tr>\n",
       "      <th>75%</th>\n",
       "      <td>10.290000</td>\n",
       "      <td>21.900000</td>\n",
       "    </tr>\n",
       "    <tr>\n",
       "      <th>max</th>\n",
       "      <td>26.840000</td>\n",
       "      <td>48.100000</td>\n",
       "    </tr>\n",
       "  </tbody>\n",
       "</table>\n",
       "</div>"
      ],
      "text/plain": [
       "              AWND         WSF2\n",
       "count  4017.000000  4017.000000\n",
       "mean      8.593707    19.274782\n",
       "std       3.364601     5.623866\n",
       "min       0.220000     4.900000\n",
       "25%       6.260000    15.000000\n",
       "50%       8.050000    17.900000\n",
       "75%      10.290000    21.900000\n",
       "max      26.840000    48.100000"
      ]
     },
     "execution_count": 126,
     "metadata": {},
     "output_type": "execute_result"
    }
   ],
   "source": [
    "weather[['AWND','WSF2']].describe()"
   ]
  },
  {
   "cell_type": "code",
   "execution_count": 127,
   "id": "5e17da01",
   "metadata": {},
   "outputs": [
    {
     "data": {
      "image/png": "[encoded data removed]",
      "text/plain": [
       "<Figure size 432x288 with 1 Axes>"
      ]
     },
     "metadata": {
      "needs_background": "light"
     },
     "output_type": "display_data"
    }
   ],
   "source": [
    "weather[['AWND','WSF2']].boxplot()\n",
    "plt.show()"
   ]
  },
  {
   "cell_type": "code",
   "execution_count": 130,
   "id": "f5ed41e1",
   "metadata": {},
   "outputs": [
    {
     "data": {
      "image/png": "[encoded data removed]",
      "text/plain": [
       "<Figure size 432x288 with 1 Axes>"
      ]
     },
     "metadata": {
      "needs_background": "light"
     },
     "output_type": "display_data"
    }
   ],
   "source": [
    "weather['WDIFF'] = weather['WSF2'] - weather['AWND']\n",
    "weather['WDIFF'].hist(bins = 20)\n",
    "plt.show()\n",
    "# no value below 0"
   ]
  },
  {
   "cell_type": "code",
   "execution_count": 131,
   "id": "e6a55a37",
   "metadata": {},
   "outputs": [
    {
     "data": {
      "text/plain": [
       "(4017, 28)"
      ]
     },
     "execution_count": 131,
     "metadata": {},
     "output_type": "execute_result"
    }
   ],
   "source": [
    "weather.shape"
   ]
  },
  {
   "cell_type": "code",
   "execution_count": 166,
   "id": "abf79339",
   "metadata": {},
   "outputs": [
    {
     "data": {
      "text/plain": [
       "Index(['STATION', 'DATE', 'TAVG', 'TMIN', 'TMAX', 'AWND', 'WSF2', 'WT01',\n",
       "       'WT02', 'WT03', 'WT04', 'WT05', 'WT06', 'WT07', 'WT08', 'WT09', 'WT10',\n",
       "       'WT11', 'WT13', 'WT14', 'WT15', 'WT16', 'WT17', 'WT18', 'WT19', 'WT21',\n",
       "       'WT22', 'WDIFF'],\n",
       "      dtype='object')"
      ]
     },
     "execution_count": 166,
     "metadata": {},
     "output_type": "execute_result"
    }
   ],
   "source": [
    "weather.columns"
   ]
  },
  {
   "cell_type": "markdown",
   "id": "181e305e",
   "metadata": {},
   "source": [
    "**Subsetting dataset**"
   ]
  },
  {
   "cell_type": "code",
   "execution_count": 133,
   "id": "ff0c3c99",
   "metadata": {},
   "outputs": [
    {
     "data": {
      "text/plain": [
       "(4017, 3)"
      ]
     },
     "execution_count": 133,
     "metadata": {},
     "output_type": "execute_result"
    }
   ],
   "source": [
    "temp = weather.loc[:,'TAVG':'TMAX']\n",
    "temp.shape"
   ]
  },
  {
   "cell_type": "code",
   "execution_count": 134,
   "id": "7528c927",
   "metadata": {},
   "outputs": [
    {
     "data": {
      "text/plain": [
       "Index(['TAVG', 'TMIN', 'TMAX'], dtype='object')"
      ]
     },
     "execution_count": 134,
     "metadata": {},
     "output_type": "execute_result"
    }
   ],
   "source": [
    "temp.columns"
   ]
  },
  {
   "cell_type": "code",
   "execution_count": 136,
   "id": "7aa3278a",
   "metadata": {},
   "outputs": [
    {
     "data": {
      "text/plain": [
       "0    132.0\n",
       "1    108.0\n",
       "2    146.0\n",
       "3    126.0\n",
       "4    107.0\n",
       "dtype: float64"
      ]
     },
     "execution_count": 136,
     "metadata": {},
     "output_type": "execute_result"
    }
   ],
   "source": [
    "# aggregate based on columns \n",
    "temp.sum(axis = 1).head()"
   ]
  },
  {
   "cell_type": "code",
   "execution_count": 137,
   "id": "b6de9559",
   "metadata": {},
   "outputs": [
    {
     "data": {
      "text/html": [
       "<div>\n",
       "<style scoped>\n",
       "    .dataframe tbody tr th:only-of-type {\n",
       "        vertical-align: middle;\n",
       "    }\n",
       "\n",
       "    .dataframe tbody tr th {\n",
       "        vertical-align: top;\n",
       "    }\n",
       "\n",
       "    .dataframe thead th {\n",
       "        text-align: right;\n",
       "    }\n",
       "</style>\n",
       "<table border=\"1\" class=\"dataframe\">\n",
       "  <thead>\n",
       "    <tr style=\"text-align: right;\">\n",
       "      <th></th>\n",
       "      <th>state</th>\n",
       "      <th>stop_date</th>\n",
       "      <th>stop_time</th>\n",
       "      <th>driver_gender</th>\n",
       "      <th>driver_race</th>\n",
       "      <th>violation_raw</th>\n",
       "      <th>violation</th>\n",
       "      <th>search_conducted</th>\n",
       "      <th>search_type</th>\n",
       "      <th>stop_outcome</th>\n",
       "      <th>is_arrested</th>\n",
       "      <th>stop_duration</th>\n",
       "      <th>drugs_related_stop</th>\n",
       "      <th>district</th>\n",
       "      <th>stop_minutes</th>\n",
       "    </tr>\n",
       "    <tr>\n",
       "      <th>stop_datetime</th>\n",
       "      <th></th>\n",
       "      <th></th>\n",
       "      <th></th>\n",
       "      <th></th>\n",
       "      <th></th>\n",
       "      <th></th>\n",
       "      <th></th>\n",
       "      <th></th>\n",
       "      <th></th>\n",
       "      <th></th>\n",
       "      <th></th>\n",
       "      <th></th>\n",
       "      <th></th>\n",
       "      <th></th>\n",
       "      <th></th>\n",
       "    </tr>\n",
       "  </thead>\n",
       "  <tbody>\n",
       "    <tr>\n",
       "      <th>2005-01-04 12:55:00</th>\n",
       "      <td>RI</td>\n",
       "      <td>2005-01-04</td>\n",
       "      <td>12:55</td>\n",
       "      <td>M</td>\n",
       "      <td>White</td>\n",
       "      <td>Equipment/Inspection Violation</td>\n",
       "      <td>Equipment</td>\n",
       "      <td>False</td>\n",
       "      <td>NaN</td>\n",
       "      <td>Citation</td>\n",
       "      <td>False</td>\n",
       "      <td>0-15 Min</td>\n",
       "      <td>False</td>\n",
       "      <td>Zone X4</td>\n",
       "      <td>8.0</td>\n",
       "    </tr>\n",
       "    <tr>\n",
       "      <th>2005-01-23 23:15:00</th>\n",
       "      <td>RI</td>\n",
       "      <td>2005-01-23</td>\n",
       "      <td>23:15</td>\n",
       "      <td>M</td>\n",
       "      <td>White</td>\n",
       "      <td>Speeding</td>\n",
       "      <td>Speeding</td>\n",
       "      <td>False</td>\n",
       "      <td>NaN</td>\n",
       "      <td>Citation</td>\n",
       "      <td>False</td>\n",
       "      <td>0-15 Min</td>\n",
       "      <td>False</td>\n",
       "      <td>Zone K3</td>\n",
       "      <td>8.0</td>\n",
       "    </tr>\n",
       "    <tr>\n",
       "      <th>2005-02-17 04:15:00</th>\n",
       "      <td>RI</td>\n",
       "      <td>2005-02-17</td>\n",
       "      <td>04:15</td>\n",
       "      <td>M</td>\n",
       "      <td>White</td>\n",
       "      <td>Speeding</td>\n",
       "      <td>Speeding</td>\n",
       "      <td>False</td>\n",
       "      <td>NaN</td>\n",
       "      <td>Citation</td>\n",
       "      <td>False</td>\n",
       "      <td>0-15 Min</td>\n",
       "      <td>False</td>\n",
       "      <td>Zone X4</td>\n",
       "      <td>8.0</td>\n",
       "    </tr>\n",
       "  </tbody>\n",
       "</table>\n",
       "</div>"
      ],
      "text/plain": [
       "                    state   stop_date stop_time driver_gender driver_race  \\\n",
       "stop_datetime                                                               \n",
       "2005-01-04 12:55:00    RI  2005-01-04     12:55             M       White   \n",
       "2005-01-23 23:15:00    RI  2005-01-23     23:15             M       White   \n",
       "2005-02-17 04:15:00    RI  2005-02-17     04:15             M       White   \n",
       "\n",
       "                                      violation_raw  violation  \\\n",
       "stop_datetime                                                    \n",
       "2005-01-04 12:55:00  Equipment/Inspection Violation  Equipment   \n",
       "2005-01-23 23:15:00                        Speeding   Speeding   \n",
       "2005-02-17 04:15:00                        Speeding   Speeding   \n",
       "\n",
       "                     search_conducted search_type stop_outcome is_arrested  \\\n",
       "stop_datetime                                                                \n",
       "2005-01-04 12:55:00             False         NaN     Citation       False   \n",
       "2005-01-23 23:15:00             False         NaN     Citation       False   \n",
       "2005-02-17 04:15:00             False         NaN     Citation       False   \n",
       "\n",
       "                    stop_duration  drugs_related_stop district  stop_minutes  \n",
       "stop_datetime                                                                 \n",
       "2005-01-04 12:55:00      0-15 Min               False  Zone X4           8.0  \n",
       "2005-01-23 23:15:00      0-15 Min               False  Zone K3           8.0  \n",
       "2005-02-17 04:15:00      0-15 Min               False  Zone X4           8.0  "
      ]
     },
     "execution_count": 137,
     "metadata": {},
     "output_type": "execute_result"
    }
   ],
   "source": [
    "traffic.head(3)"
   ]
  },
  {
   "cell_type": "markdown",
   "id": "6e2232ef",
   "metadata": {},
   "source": [
    "**Convert to catogory**"
   ]
  },
  {
   "cell_type": "code",
   "execution_count": 159,
   "id": "e24c2b59",
   "metadata": {},
   "outputs": [
    {
     "data": {
      "text/plain": [
       "0    short\n",
       "1    short\n",
       "Name: stop_length, dtype: object"
      ]
     },
     "execution_count": 159,
     "metadata": {},
     "output_type": "execute_result"
    }
   ],
   "source": [
    "mapping = {'0-15 Min': 'short',\n",
    "          '16-30 Min': 'medium',\n",
    "          '30+ Min': 'long'}\n",
    "traffic['stop_length'] = traffic.stop_duration.map(mapping)\n",
    "traffic['stop_length'].dtype\n",
    "traffic['stop_length'].head(2)"
   ]
  },
  {
   "cell_type": "code",
   "execution_count": 160,
   "id": "04d39725",
   "metadata": {},
   "outputs": [
    {
     "data": {
      "text/plain": [
       "92163"
      ]
     },
     "execution_count": 160,
     "metadata": {},
     "output_type": "execute_result"
    }
   ],
   "source": [
    "cats = pd.CategoricalDtype(['short', 'medium', 'long'], ordered = True)\n",
    "traffic['stop_length'] = traffic.stop_length.astype(cats)\n",
    "traffic['stop_length'].memory_usage(deep=True)"
   ]
  },
  {
   "cell_type": "code",
   "execution_count": 161,
   "id": "1ca28d5a",
   "metadata": {},
   "outputs": [
    {
     "data": {
      "text/plain": [
       "0     short\n",
       "1     short\n",
       "2     short\n",
       "3    medium\n",
       "4     short\n",
       "Name: stop_length, dtype: category\n",
       "Categories (3, object): ['short' < 'medium' < 'long']"
      ]
     },
     "execution_count": 161,
     "metadata": {},
     "output_type": "execute_result"
    }
   ],
   "source": [
    "traffic.stop_length.head()"
   ]
  },
  {
   "cell_type": "code",
   "execution_count": 162,
   "id": "9694e9aa",
   "metadata": {},
   "outputs": [
    {
     "data": {
      "text/plain": [
       "(16960, 16)"
      ]
     },
     "execution_count": 162,
     "metadata": {},
     "output_type": "execute_result"
    }
   ],
   "source": [
    "# after order the categories, you can use comparison\n",
    "traffic[traffic.stop_length > 'short'].shape"
   ]
  },
  {
   "cell_type": "code",
   "execution_count": 163,
   "id": "bc558b9d",
   "metadata": {},
   "outputs": [
    {
     "data": {
      "text/plain": [
       "stop_length\n",
       "short     0.013654\n",
       "medium    0.093595\n",
       "long      0.261491\n",
       "Name: is_arrested, dtype: float64"
      ]
     },
     "execution_count": 163,
     "metadata": {},
     "output_type": "execute_result"
    }
   ],
   "source": [
    "traffic.groupby('stop_length').is_arrested.mean()"
   ]
  },
  {
   "cell_type": "markdown",
   "id": "4f83f895",
   "metadata": {},
   "source": [
    "**Merging the datasets**"
   ]
  },
  {
   "cell_type": "code",
   "execution_count": 169,
   "id": "d01a8da8",
   "metadata": {},
   "outputs": [
    {
     "name": "stdout",
     "output_type": "stream",
     "text": [
      "   level_0  index        stop_datetime state   stop_date stop_time  \\\n",
      "0        0      0  2005-01-04 12:55:00    RI  2005-01-04     12:55   \n",
      "1        1      1  2005-01-23 23:15:00    RI  2005-01-23     23:15   \n",
      "2        2      2  2005-02-17 04:15:00    RI  2005-02-17     04:15   \n",
      "\n",
      "  driver_gender driver_race                   violation_raw  violation  \\\n",
      "0             M       White  Equipment/Inspection Violation  Equipment   \n",
      "1             M       White                        Speeding   Speeding   \n",
      "2             M       White                        Speeding   Speeding   \n",
      "\n",
      "   search_conducted search_type stop_outcome is_arrested stop_duration  \\\n",
      "0             False         NaN     Citation       False      0-15 Min   \n",
      "1             False         NaN     Citation       False      0-15 Min   \n",
      "2             False         NaN     Citation       False      0-15 Min   \n",
      "\n",
      "   drugs_related_stop district stop_length  \n",
      "0               False  Zone X4       short  \n",
      "1               False  Zone K3       short  \n",
      "2               False  Zone X4       short  \n",
      "         DATE  TAVG\n",
      "0  2005-01-01  44.0\n",
      "1  2005-01-02  36.0\n",
      "2  2005-01-03  49.0\n",
      "3  2005-01-04  42.0\n",
      "4  2005-01-05  36.0\n"
     ]
    }
   ],
   "source": [
    "# Reset the index of 'ri'\n",
    "traffic.reset_index(inplace = True)\n",
    "print(traffic.head(3))\n",
    "\n",
    "# Create a DataFrame from the 'DATE' and 'rating' columns\n",
    "weather_rating = weather.loc[:, ['DATE','TAVG']]\n",
    "\n",
    "# Examine the head of 'weather_rating'\n",
    "print(weather_rating.head())"
   ]
  },
  {
   "cell_type": "code",
   "execution_count": 171,
   "id": "be599065",
   "metadata": {},
   "outputs": [
    {
     "data": {
      "text/html": [
       "<div>\n",
       "<style scoped>\n",
       "    .dataframe tbody tr th:only-of-type {\n",
       "        vertical-align: middle;\n",
       "    }\n",
       "\n",
       "    .dataframe tbody tr th {\n",
       "        vertical-align: top;\n",
       "    }\n",
       "\n",
       "    .dataframe thead th {\n",
       "        text-align: right;\n",
       "    }\n",
       "</style>\n",
       "<table border=\"1\" class=\"dataframe\">\n",
       "  <thead>\n",
       "    <tr style=\"text-align: right;\">\n",
       "      <th></th>\n",
       "      <th>level_0</th>\n",
       "      <th>index</th>\n",
       "      <th>stop_datetime</th>\n",
       "      <th>state</th>\n",
       "      <th>stop_date</th>\n",
       "      <th>stop_time</th>\n",
       "      <th>driver_gender</th>\n",
       "      <th>driver_race</th>\n",
       "      <th>violation_raw</th>\n",
       "      <th>violation</th>\n",
       "      <th>search_conducted</th>\n",
       "      <th>search_type</th>\n",
       "      <th>stop_outcome</th>\n",
       "      <th>is_arrested</th>\n",
       "      <th>stop_duration</th>\n",
       "      <th>drugs_related_stop</th>\n",
       "      <th>district</th>\n",
       "      <th>stop_length</th>\n",
       "      <th>DATE</th>\n",
       "      <th>TAVG</th>\n",
       "    </tr>\n",
       "  </thead>\n",
       "  <tbody>\n",
       "    <tr>\n",
       "      <th>0</th>\n",
       "      <td>0</td>\n",
       "      <td>0</td>\n",
       "      <td>2005-01-04 12:55:00</td>\n",
       "      <td>RI</td>\n",
       "      <td>2005-01-04</td>\n",
       "      <td>12:55</td>\n",
       "      <td>M</td>\n",
       "      <td>White</td>\n",
       "      <td>Equipment/Inspection Violation</td>\n",
       "      <td>Equipment</td>\n",
       "      <td>False</td>\n",
       "      <td>NaN</td>\n",
       "      <td>Citation</td>\n",
       "      <td>False</td>\n",
       "      <td>0-15 Min</td>\n",
       "      <td>False</td>\n",
       "      <td>Zone X4</td>\n",
       "      <td>short</td>\n",
       "      <td>2005-01-04</td>\n",
       "      <td>42.0</td>\n",
       "    </tr>\n",
       "    <tr>\n",
       "      <th>1</th>\n",
       "      <td>1</td>\n",
       "      <td>1</td>\n",
       "      <td>2005-01-23 23:15:00</td>\n",
       "      <td>RI</td>\n",
       "      <td>2005-01-23</td>\n",
       "      <td>23:15</td>\n",
       "      <td>M</td>\n",
       "      <td>White</td>\n",
       "      <td>Speeding</td>\n",
       "      <td>Speeding</td>\n",
       "      <td>False</td>\n",
       "      <td>NaN</td>\n",
       "      <td>Citation</td>\n",
       "      <td>False</td>\n",
       "      <td>0-15 Min</td>\n",
       "      <td>False</td>\n",
       "      <td>Zone K3</td>\n",
       "      <td>short</td>\n",
       "      <td>2005-01-23</td>\n",
       "      <td>17.0</td>\n",
       "    </tr>\n",
       "    <tr>\n",
       "      <th>2</th>\n",
       "      <td>2</td>\n",
       "      <td>2</td>\n",
       "      <td>2005-02-17 04:15:00</td>\n",
       "      <td>RI</td>\n",
       "      <td>2005-02-17</td>\n",
       "      <td>04:15</td>\n",
       "      <td>M</td>\n",
       "      <td>White</td>\n",
       "      <td>Speeding</td>\n",
       "      <td>Speeding</td>\n",
       "      <td>False</td>\n",
       "      <td>NaN</td>\n",
       "      <td>Citation</td>\n",
       "      <td>False</td>\n",
       "      <td>0-15 Min</td>\n",
       "      <td>False</td>\n",
       "      <td>Zone X4</td>\n",
       "      <td>short</td>\n",
       "      <td>2005-02-17</td>\n",
       "      <td>34.0</td>\n",
       "    </tr>\n",
       "    <tr>\n",
       "      <th>3</th>\n",
       "      <td>3</td>\n",
       "      <td>3</td>\n",
       "      <td>2005-02-20 17:15:00</td>\n",
       "      <td>RI</td>\n",
       "      <td>2005-02-20</td>\n",
       "      <td>17:15</td>\n",
       "      <td>M</td>\n",
       "      <td>White</td>\n",
       "      <td>Call for Service</td>\n",
       "      <td>Other</td>\n",
       "      <td>False</td>\n",
       "      <td>NaN</td>\n",
       "      <td>Arrest Driver</td>\n",
       "      <td>True</td>\n",
       "      <td>16-30 Min</td>\n",
       "      <td>False</td>\n",
       "      <td>Zone X1</td>\n",
       "      <td>medium</td>\n",
       "      <td>2005-02-20</td>\n",
       "      <td>26.0</td>\n",
       "    </tr>\n",
       "    <tr>\n",
       "      <th>4</th>\n",
       "      <td>4</td>\n",
       "      <td>4</td>\n",
       "      <td>2005-02-24 01:20:00</td>\n",
       "      <td>RI</td>\n",
       "      <td>2005-02-24</td>\n",
       "      <td>01:20</td>\n",
       "      <td>F</td>\n",
       "      <td>White</td>\n",
       "      <td>Speeding</td>\n",
       "      <td>Speeding</td>\n",
       "      <td>False</td>\n",
       "      <td>NaN</td>\n",
       "      <td>Citation</td>\n",
       "      <td>False</td>\n",
       "      <td>0-15 Min</td>\n",
       "      <td>False</td>\n",
       "      <td>Zone X3</td>\n",
       "      <td>short</td>\n",
       "      <td>2005-02-24</td>\n",
       "      <td>24.0</td>\n",
       "    </tr>\n",
       "  </tbody>\n",
       "</table>\n",
       "</div>"
      ],
      "text/plain": [
       "   level_0  index        stop_datetime state   stop_date stop_time  \\\n",
       "0        0      0  2005-01-04 12:55:00    RI  2005-01-04     12:55   \n",
       "1        1      1  2005-01-23 23:15:00    RI  2005-01-23     23:15   \n",
       "2        2      2  2005-02-17 04:15:00    RI  2005-02-17     04:15   \n",
       "3        3      3  2005-02-20 17:15:00    RI  2005-02-20     17:15   \n",
       "4        4      4  2005-02-24 01:20:00    RI  2005-02-24     01:20   \n",
       "\n",
       "  driver_gender driver_race                   violation_raw  violation  \\\n",
       "0             M       White  Equipment/Inspection Violation  Equipment   \n",
       "1             M       White                        Speeding   Speeding   \n",
       "2             M       White                        Speeding   Speeding   \n",
       "3             M       White                Call for Service      Other   \n",
       "4             F       White                        Speeding   Speeding   \n",
       "\n",
       "   search_conducted search_type   stop_outcome is_arrested stop_duration  \\\n",
       "0             False         NaN       Citation       False      0-15 Min   \n",
       "1             False         NaN       Citation       False      0-15 Min   \n",
       "2             False         NaN       Citation       False      0-15 Min   \n",
       "3             False         NaN  Arrest Driver        True     16-30 Min   \n",
       "4             False         NaN       Citation       False      0-15 Min   \n",
       "\n",
       "   drugs_related_stop district stop_length        DATE  TAVG  \n",
       "0               False  Zone X4       short  2005-01-04  42.0  \n",
       "1               False  Zone K3       short  2005-01-23  17.0  \n",
       "2               False  Zone X4       short  2005-02-17  34.0  \n",
       "3               False  Zone X1      medium  2005-02-20  26.0  \n",
       "4               False  Zone X3       short  2005-02-24  24.0  "
      ]
     },
     "execution_count": 171,
     "metadata": {},
     "output_type": "execute_result"
    }
   ],
   "source": [
    "traffic_wind = traffic.merge(weather_rating, left_on = 'stop_date', right_on='DATE', how = 'left')\n",
    "traffic_wind.head()"
   ]
  },
  {
   "cell_type": "code",
   "execution_count": 173,
   "id": "0ec0a713",
   "metadata": {},
   "outputs": [],
   "source": [
    "traffic_wind.set_index('stop_datetime', inplace = True)"
   ]
  },
  {
   "cell_type": "markdown",
   "id": "f2ecb7de",
   "metadata": {},
   "source": [
    "**Convert a multi-indexed Series to a DataFrame**"
   ]
  },
  {
   "cell_type": "code",
   "execution_count": 174,
   "id": "3d547082",
   "metadata": {},
   "outputs": [
    {
     "data": {
      "text/plain": [
       "pandas.core.indexes.multi.MultiIndex"
      ]
     },
     "execution_count": 174,
     "metadata": {},
     "output_type": "execute_result"
    }
   ],
   "source": [
    "search_rate = traffic.groupby(['violation', \n",
    "                              'driver_gender'])['search_conducted'].mean()\n",
    "type(search_rate.index)"
   ]
  },
  {
   "cell_type": "code",
   "execution_count": 175,
   "id": "cb38b8fd",
   "metadata": {},
   "outputs": [
    {
     "data": {
      "text/plain": [
       "violation            driver_gender\n",
       "Equipment            F                0.039984\n",
       "                     M                0.071496\n",
       "Moving violation     F                0.039257\n",
       "                     M                0.061524\n",
       "Other                F                0.041018\n",
       "                     M                0.046191\n",
       "Registration/plates  F                0.054924\n",
       "                     M                0.108802\n",
       "Seat belt            F                0.017301\n",
       "                     M                0.035119\n",
       "Speeding             F                0.008309\n",
       "                     M                0.027885\n",
       "Name: search_conducted, dtype: float64"
      ]
     },
     "execution_count": 175,
     "metadata": {},
     "output_type": "execute_result"
    }
   ],
   "source": [
    "search_rate"
   ]
  },
  {
   "cell_type": "code",
   "execution_count": 176,
   "id": "c0e898dc",
   "metadata": {},
   "outputs": [
    {
     "data": {
      "text/plain": [
       "driver_gender\n",
       "F    0.008309\n",
       "M    0.027885\n",
       "Name: search_conducted, dtype: float64"
      ]
     },
     "execution_count": 176,
     "metadata": {},
     "output_type": "execute_result"
    }
   ],
   "source": [
    "search_rate.loc['Speeding']"
   ]
  },
  {
   "cell_type": "code",
   "execution_count": 180,
   "id": "86b27cd1",
   "metadata": {},
   "outputs": [
    {
     "data": {
      "text/plain": [
       "0.008308832928544037"
      ]
     },
     "execution_count": 180,
     "metadata": {},
     "output_type": "execute_result"
    }
   ],
   "source": [
    "search_rate.loc['Speeding','F']"
   ]
  },
  {
   "cell_type": "code",
   "execution_count": 181,
   "id": "d0380134",
   "metadata": {},
   "outputs": [
    {
     "data": {
      "text/html": [
       "<div>\n",
       "<style scoped>\n",
       "    .dataframe tbody tr th:only-of-type {\n",
       "        vertical-align: middle;\n",
       "    }\n",
       "\n",
       "    .dataframe tbody tr th {\n",
       "        vertical-align: top;\n",
       "    }\n",
       "\n",
       "    .dataframe thead th {\n",
       "        text-align: right;\n",
       "    }\n",
       "</style>\n",
       "<table border=\"1\" class=\"dataframe\">\n",
       "  <thead>\n",
       "    <tr style=\"text-align: right;\">\n",
       "      <th>driver_gender</th>\n",
       "      <th>F</th>\n",
       "      <th>M</th>\n",
       "    </tr>\n",
       "    <tr>\n",
       "      <th>violation</th>\n",
       "      <th></th>\n",
       "      <th></th>\n",
       "    </tr>\n",
       "  </thead>\n",
       "  <tbody>\n",
       "    <tr>\n",
       "      <th>Equipment</th>\n",
       "      <td>0.039984</td>\n",
       "      <td>0.071496</td>\n",
       "    </tr>\n",
       "    <tr>\n",
       "      <th>Moving violation</th>\n",
       "      <td>0.039257</td>\n",
       "      <td>0.061524</td>\n",
       "    </tr>\n",
       "    <tr>\n",
       "      <th>Other</th>\n",
       "      <td>0.041018</td>\n",
       "      <td>0.046191</td>\n",
       "    </tr>\n",
       "    <tr>\n",
       "      <th>Registration/plates</th>\n",
       "      <td>0.054924</td>\n",
       "      <td>0.108802</td>\n",
       "    </tr>\n",
       "    <tr>\n",
       "      <th>Seat belt</th>\n",
       "      <td>0.017301</td>\n",
       "      <td>0.035119</td>\n",
       "    </tr>\n",
       "    <tr>\n",
       "      <th>Speeding</th>\n",
       "      <td>0.008309</td>\n",
       "      <td>0.027885</td>\n",
       "    </tr>\n",
       "  </tbody>\n",
       "</table>\n",
       "</div>"
      ],
      "text/plain": [
       "driver_gender               F         M\n",
       "violation                              \n",
       "Equipment            0.039984  0.071496\n",
       "Moving violation     0.039257  0.061524\n",
       "Other                0.041018  0.046191\n",
       "Registration/plates  0.054924  0.108802\n",
       "Seat belt            0.017301  0.035119\n",
       "Speeding             0.008309  0.027885"
      ]
     },
     "execution_count": 181,
     "metadata": {},
     "output_type": "execute_result"
    }
   ],
   "source": [
    "search_rate.unstack()"
   ]
  },
  {
   "cell_type": "code",
   "execution_count": 182,
   "id": "57b7ab7e",
   "metadata": {},
   "outputs": [
    {
     "data": {
      "text/plain": [
       "pandas.core.series.Series"
      ]
     },
     "execution_count": 182,
     "metadata": {},
     "output_type": "execute_result"
    }
   ],
   "source": [
    "type(search_rate)"
   ]
  },
  {
   "cell_type": "markdown",
   "id": "4ed5f07c",
   "metadata": {},
   "source": [
    "**Pivot table**"
   ]
  },
  {
   "cell_type": "code",
   "execution_count": 184,
   "id": "f27cb832",
   "metadata": {},
   "outputs": [
    {
     "data": {
      "text/html": [
       "<div>\n",
       "<style scoped>\n",
       "    .dataframe tbody tr th:only-of-type {\n",
       "        vertical-align: middle;\n",
       "    }\n",
       "\n",
       "    .dataframe tbody tr th {\n",
       "        vertical-align: top;\n",
       "    }\n",
       "\n",
       "    .dataframe thead th {\n",
       "        text-align: right;\n",
       "    }\n",
       "</style>\n",
       "<table border=\"1\" class=\"dataframe\">\n",
       "  <thead>\n",
       "    <tr style=\"text-align: right;\">\n",
       "      <th>driver_gender</th>\n",
       "      <th>F</th>\n",
       "      <th>M</th>\n",
       "    </tr>\n",
       "    <tr>\n",
       "      <th>violation</th>\n",
       "      <th></th>\n",
       "      <th></th>\n",
       "    </tr>\n",
       "  </thead>\n",
       "  <tbody>\n",
       "    <tr>\n",
       "      <th>Equipment</th>\n",
       "      <td>2501</td>\n",
       "      <td>8420</td>\n",
       "    </tr>\n",
       "    <tr>\n",
       "      <th>Moving violation</th>\n",
       "      <td>3286</td>\n",
       "      <td>12938</td>\n",
       "    </tr>\n",
       "    <tr>\n",
       "      <th>Other</th>\n",
       "      <td>707</td>\n",
       "      <td>3702</td>\n",
       "    </tr>\n",
       "    <tr>\n",
       "      <th>Registration/plates</th>\n",
       "      <td>1056</td>\n",
       "      <td>2647</td>\n",
       "    </tr>\n",
       "    <tr>\n",
       "      <th>Seat belt</th>\n",
       "      <td>578</td>\n",
       "      <td>2278</td>\n",
       "    </tr>\n",
       "    <tr>\n",
       "      <th>Speeding</th>\n",
       "      <td>15646</td>\n",
       "      <td>32777</td>\n",
       "    </tr>\n",
       "  </tbody>\n",
       "</table>\n",
       "</div>"
      ],
      "text/plain": [
       "driver_gender            F      M\n",
       "violation                        \n",
       "Equipment             2501   8420\n",
       "Moving violation      3286  12938\n",
       "Other                  707   3702\n",
       "Registration/plates   1056   2647\n",
       "Seat belt              578   2278\n",
       "Speeding             15646  32777"
      ]
     },
     "execution_count": 184,
     "metadata": {},
     "output_type": "execute_result"
    }
   ],
   "source": [
    "# mean is the default aggregation function\n",
    "traffic.pivot_table(index = 'violation',\n",
    "                    columns = 'driver_gender', \n",
    "                   values = 'search_conducted',\n",
    "                   aggfunc = 'count')"
   ]
  },
  {
   "cell_type": "code",
   "execution_count": 185,
   "id": "456da065",
   "metadata": {},
   "outputs": [],
   "source": [
    "traffic.to_csv('/QXJ/Python/Datacamp/traffic.csv')"
   ]
  },
  {
   "cell_type": "code",
   "execution_count": 186,
   "id": "885ee471",
   "metadata": {},
   "outputs": [],
   "source": [
    "weather.to_csv('/QXJ/Python/Datacamp/weather.csv')"
   ]
  },
  {
   "cell_type": "code",
   "execution_count": 187,
   "id": "08f90432",
   "metadata": {},
   "outputs": [],
   "source": [
    "traffic_wind.to_csv('/QXJ/Python/Datacamp/traffic_wind.csv')"
   ]
  },
  {
   "cell_type": "code",
   "execution_count": null,
   "id": "c4dc3167",
   "metadata": {},
   "outputs": [],
   "source": []
  }
 ],
 "metadata": {
  "kernelspec": {
   "display_name": "Python 3 (ipykernel)",
   "language": "python",
   "name": "python3"
  },
  "language_info": {
   "codemirror_mode": {
    "name": "ipython",
    "version": 3
   },
   "file_extension": ".py",
   "mimetype": "text/x-python",
   "name": "python",
   "nbconvert_exporter": "python",
   "pygments_lexer": "ipython3",
   "version": "3.9.12"
  }
 },
 "nbformat": 4,
 "nbformat_minor": 5
}
